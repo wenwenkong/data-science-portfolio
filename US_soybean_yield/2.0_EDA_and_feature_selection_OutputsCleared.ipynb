{
 "cells": [
  {
   "cell_type": "markdown",
   "metadata": {},
   "source": [
    "<h1 align=\"center\">  Exploratory Data Analysis (EDA) notebook </h1>\n",
    "\n",
    "#### Author:\n",
    "Wenwen Kong\n",
    "\n",
    "#### Updated:\n",
    "Nov 11, 2022\n",
    "\n",
    "---\n",
    "\n",
    "### Details of our EDA\n",
    "\n",
    "- #### Deal with the missing value in the climate variables \n",
    "\n",
    "    - Note that we've fixed the missing values of soybean yield in the data ingestion notebook\n",
    "    \n",
    "    - Here, we deal with missing values in the NLDAS dataset. We remove features that have too many missing values and fill in missing values using the forward interpolation method. \n",
    "\n",
    "- #### Feature selection principles\n",
    "    - Typical soybean season spans May through October, so we won't consider environmental effects during months (i.e., November and December) after the soybean season.\n",
    "\n",
    "    - We only include features that have a possible predictive ability soybean yield, based on both our domain knowledge and the magnitude of correlation coefficient between yield and the feature.\n",
    "    \n",
    "    - We want to remove redundant features to avoid overfitting. Especially, some climate variables are highly autocorrelated across months, in those cases it's not necessary to keep all months and we do aggregations (i.e., seasonal average).\n",
    "    \n",
    "    - Nonlinear relationship between some climate variable and annual soybean yield is possible. In those cases, we keep the feature despite a weak linear correlation coefficient. \n",
    "    \n",
    "    - We also do feature engineering when necessary. In this specific work, we derived evaporative fraction using surface energy fluxes, and decided to use the evaporative fraction (instead of latent and sensible heat fluxes) as a feature. \n",
    "    \n",
    "    - Besides the current year's climate, we also consider whether past year's climate matters. We explored past year's annual total rainfall, and past winter's snowfall, rainfall, and soil moisture. We decided to include the past year's annual total rainfall as another feature to predict current year's annual yield. \n",
    "\n",
    "- #### Output - two .csv files \n",
    " \n",
    "    - The first .csv file will be a raw yield and feature dataframe, with all missing value issues fixed and unwanted months (November and December) removed. See [here](#save_raw_feature) for the saved dataframe. \n",
    "    \n",
    "    - The second .csv file will be an intermediate yield and selected feature dataframe, in which only features that I think are important are included. See [here](#save_selected_feature) for the save dataframe.\n",
    "    \n",
    "    - Both .csv files will be further tested separately during our modeling step. Based on the feature importance findings from the modeling step, we will interate the feature set and converge to a final version. \n",
    "\n",
    "\n",
    "### Caveats\n",
    "\n",
    "- #### Spatial variation \n",
    "\n",
    "Great Plains likely behave differently from other areas in terms of the soybean yield controlling factors. Currently we view all regions interchangable, which may weaken the predictive power of our model. For now we stick to our assumption and keep Great Plains region in the dataset.\n",
    "\n",
    "- #### Feature selection methods \n",
    "\n",
    "Feature selection in the current notebook is mainly based on correlation matrix and domain knowledge. As [this post](https://towardsdatascience.com/the-5-feature-selection-algorithms-every-data-scientist-need-to-know-3a6b566efd2) mentioned, feature selection methods fall into three categories: \n",
    "\n",
    "   - `filter based` (correlation or chi-square) \n",
    "    \n",
    "   - `wrapper based` ([recursive feature elimination](https://machinelearningmastery.com/rfe-feature-selection-in-python/))\n",
    "    \n",
    "   - `embedded` (algorithms that have built-in feature selection methods, such as Lasso and Random Forest, which have their feature selection methods)\n",
    "\n",
    "It's likely that I've missed some important features or included some not that important features. During the model trainning step, we will check our feature importance once again. Particularly, I will explore whether there data-driven features that I can include to update my feature set. \n"
   ]
  },
  {
   "cell_type": "markdown",
   "metadata": {},
   "source": [
    "<a id='section_0'></a>\n",
    "---\n",
    "## Table of contents \n",
    "\n",
    "\n",
    "### 1. [Background](#section_1)\n",
    "    \n",
    "    \n",
    "  - #### 1.1 [U.S. Soybean season](#section_1.1)\n",
    "\n",
    "  - #### 1.2 [Literature findings](#section_1.2) \n",
    "    \n",
    "### 2. [Import packages and data](#section_2)\n",
    "\n",
    "  - #### 2.1 [Import packages](#section_2.1)\n",
    "    \n",
    "  - #### 2.2 [Read the .csv file generated from data ingestion notebook](#section_2.2)\n",
    "  \n",
    "### 3. [EDA of the yield data](#section_3)  \n",
    "\n",
    "  - #### 3.1 [Distribution of annual yield from 1981 to 2016](#section_3.1)\n",
    "  \n",
    "  - #### 3.2 [Boxplot of annual yield from 1981 to 2016](#section_3.2)\n",
    "  \n",
    "  - #### 3.3 [Climatology, trend, and interannual variability](#section_3.3)\n",
    "  \n",
    "### 4. [EDA of the climate data ](#section_4)\n",
    "\n",
    "  - #### 4.1 [Get familar with climate variables and their standard names](#section_4.1)\n",
    "  \n",
    "  - #### 4.2 [Deal with the missing values](#section_4.2)\n",
    "\n",
    "### 5. [Feature selection](#section_5)\n",
    "  \n",
    "  - #### 5.1 [Drop current Nov-Dec columns and streamflow data](#section_5.1)\n",
    "  \n",
    "  - #### 5.2 [Exploring the correlation between yield and current monthly climate](#section_5.2)\n",
    "   \n",
    "       - 5.2a [Suface energy flux variables](#section_5.2a)\n",
    "       \n",
    "       - 5.2b [Surface water flux / storage variables](#section_5.2b)\n",
    "       \n",
    "       - 5.2c [Temperature related](#section_5.2c)\n",
    "       \n",
    "       - 5.2d [Soil moisture related](#section_5.2d)\n",
    "       \n",
    "       - 5.2e [Land surface parameters](#section_5.2e)\n",
    "       \n",
    "       \n",
    "   - #### 5.3 [Exploring the correlation between yield and previous year's climate](#section_5.3)\n",
    "\n",
    "### 6. [Summarize and save the data](#section_6)"
   ]
  },
  {
   "cell_type": "markdown",
   "metadata": {},
   "source": [
    "---\n",
    "<a id='section_1'></a>\n",
    "\n",
    "# 1. Background\n",
    "\n",
    "Back to [Table of contents](#section_0)"
   ]
  },
  {
   "cell_type": "code",
   "execution_count": null,
   "metadata": {},
   "outputs": [],
   "source": [
    "from IPython.display import Image"
   ]
  },
  {
   "cell_type": "markdown",
   "metadata": {},
   "source": [
    "<a id='section_1.1'></a>\n",
    "\n",
    "## 1.1 U.S. Soybean season\n",
    "\n",
    "From [USDA](https://www.ers.usda.gov/topics/crops/soybeans-oil-crops/oil-crops-sector-at-a-glance/):\n",
    "> Most U.S. soybeans are planted in May and early June and harvested in late September and October.\n",
    "\n",
    "### Crop calendars for United States [source](https://ipad.fas.usda.gov/rssiws/al/crop_calendar/us.aspx)\n",
    "\n",
    "![texte](https://ipad.fas.usda.gov/rssiws/al/crop_calendar/images/us_us_calendar.png)\n"
   ]
  },
  {
   "cell_type": "markdown",
   "metadata": {},
   "source": [
    "<a id='section_1.2'></a>\n",
    "\n",
    "## 1.2 Literature findings\n",
    "\n",
    "Far from being comprehensive, just list a few useful references to refer to in the future.\n",
    "\n",
    "\n",
    "- [Hamed et al., 2021, Earth System Dynamics, Impacts of compound hot–dry extremes on US soybean yields](https://esd.copernicus.org/articles/12/1371/2021/)\n",
    "    - The authors suggest that \"The largest negative influence on soybean yields is driven by high temperature and low soil moisture during the summer crop reproductive period.\"\n",
    "\n",
    "- [Anderson et al., 2018, Agricultural and Forest Meteorology, Trans-Pacific ENSO teleconnections pose a correlated risk to agriculture](https://www.researchgate.net/publication/326631844_Trans-Pacific_ENSO_teleconnections_pose_a_correlated_risk_to_agriculture)\n",
    "    - This paper discuss teleconnection impaces of ENSO on maize and soybean growing conditions across the world.\n",
    "    \n",
    "- [Zhang et al., 2020, Remote Sensing, Albedo impacts of changing agricultural practices in the United States through Space-Borne Analysis](https://www.researchgate.net/publication/344416659_Albedo_Impacts_of_Changing_Agricultural_Practices_in_the_United_States_through_Space-Borne_Analysis?enrichId=rgreq-c0d44bee512ea316ae24f5fe0ab9c297-XXX&enrichSource=Y292ZXJQYWdlOzM0NDQxNjY1OTtBUzo5NDExMzAwOTA4MDczMzVAMTYwMTM5NDMwNzcwOQ%3D%3D&el=1_x_3&_esc=publicationCoverPdf)\n",
    "    - This work suggests that \"crop growth can result in changes in reflectivity up to a factor of 2 at most wavelength and is unique per crop type in timing and range\".  \n",
    "    \n",
    "- [Wijewardana et al., 2018, Irrigation Science, Quantifying soil moisture deficit effects on soybean yield and yield component distribution patterns](https://www.researchgate.net/publication/326018870_Quantifying_soil_moisture_deficit_effects_on_soybean_yield_and_yield_component_distribution_patterns)\n",
    "    - An experimental work to quantify water stress effects on two soybean cultivars with distinct growth traits. "
   ]
  },
  {
   "cell_type": "markdown",
   "metadata": {},
   "source": [
    "---\n",
    "<a id='section_2'></a>\n",
    "# 2. Import packages and data\n",
    "\n",
    "Back to [Table of contents](#section_0)"
   ]
  },
  {
   "cell_type": "markdown",
   "metadata": {},
   "source": [
    "<a id='section_2.1'></a>\n",
    "## 2.1 Import useful packages \n"
   ]
  },
  {
   "cell_type": "code",
   "execution_count": null,
   "metadata": {},
   "outputs": [],
   "source": [
    "import os\n",
    "import math \n",
    "import xarray as xr\n",
    "import pandas as pd\n",
    "import numpy  as np\n",
    "import seaborn as sns\n",
    "import cartopy\n",
    "import cartopy.crs as ccrs\n",
    "import cartopy.feature as cfeature\n",
    "from cartopy.mpl.gridliner import LONGITUDE_FORMATTER, LATITUDE_FORMATTER\n",
    "cartopy.config['data_dir'] = os.getenv('CARTOPY_DIR', cartopy.config.get('data_dir'))\n",
    "\n",
    "import geopandas as gpd\n",
    "import cmocean\n",
    "\n",
    "from matplotlib import pyplot as plt\n",
    "#%config InlineBackend.figure_format = 'retina'\n",
    "plt.ion()  # To trigger the interactive inline mode\n",
    "\n",
    "import warnings\n",
    "warnings.filterwarnings(\"ignore\", category=RuntimeWarning) \n",
    "\n",
    "from functools import reduce\n",
    "from netCDF4 import Dataset\n",
    "\n",
    "import inspect"
   ]
  },
  {
   "cell_type": "markdown",
   "metadata": {},
   "source": [
    "## Import customized utils"
   ]
  },
  {
   "cell_type": "code",
   "execution_count": null,
   "metadata": {},
   "outputs": [],
   "source": [
    "import utils"
   ]
  },
  {
   "cell_type": "markdown",
   "metadata": {},
   "source": [
    "---\n",
    "<a id='section_2.2'></a>\n",
    "\n",
    "## 2.2 Read the .csv file generated from the data ingestion notebook \n",
    "\n",
    "Back to [Table of contents](#section_0)"
   ]
  },
  {
   "cell_type": "code",
   "execution_count": null,
   "metadata": {},
   "outputs": [],
   "source": [
    "base_dir = os.getcwd()\n",
    "data_dir = os.path.join(base_dir, 'data/')\n",
    "data = pd.read_csv(data_dir+'GDHY_soybean_NLDAS_1981-2016.csv')\n",
    "data.head()"
   ]
  },
  {
   "cell_type": "markdown",
   "metadata": {},
   "source": [
    "---\n",
    "<a id='section_3'></a>\n",
    "\n",
    "# 3. EDA of the yield data \n",
    "\n",
    "Back to [Table of contents](#section_0)"
   ]
  },
  {
   "cell_type": "markdown",
   "metadata": {},
   "source": [
    "<a id='section_3.1'></a>\n",
    "\n",
    "## 3.1 Distribution of annual yield from 1981 to 2016\n",
    "\n",
    "U.S. soybean annual yield exhibits a bimodal distribution, suggesting that not all U.S. soybean production regions behave in a coherent fashion. My speculation is that it is the different behavior between the Great Plains and other regions (such as Midwest, Southeast, and Northeast) that result in this bimodal distribution pattern. It's likely that grid points over the Great Plains form the left mode, while the rest areas form the right mode. One hint of this speculation is that both the climatology and trend set the Great Plains apart from other areas (see section 3.3 in below), more analysis are needed to further test and understand this hypothesis, and I leave that for future work. \n",
    "\n",
    "This bimodal behavior does suggest `a caveat of our approach of viewing all grid points interchangeably.` "
   ]
  },
  {
   "cell_type": "code",
   "execution_count": null,
   "metadata": {},
   "outputs": [],
   "source": [
    "plt.figure(figsize=(14,6))\n",
    "sns.distplot(data['yield'])\n",
    "plt.xlabel('Yield ['+ r'$t$ $ha^{-1}$'+']', fontsize = 20)\n",
    "plt.ylabel('Density', fontsize = 20)\n",
    "plt.title('Distribution of U.S. Soybean annual yield', fontsize = 30)"
   ]
  },
  {
   "cell_type": "markdown",
   "metadata": {},
   "source": [
    "<a id='section_3.2'></a>\n",
    "---\n",
    "## 3.2 Boxplot of annual yield from 1981 to 2016\n",
    "\n",
    "The Interquartile Range (IQR) of Boxplot across all grid points from each year infer the spread across the space. It shows that the spatial spread varies year to year, and many interesting questions can be asked to further understand what affects the spatial spread. \n",
    "\n",
    "Changes in the Median value also suggest that the U.S. Soybean experience an overall increasing trend from 1981 to 2016. \n",
    "\n",
    "Back to [Table of contents](#section_0)"
   ]
  },
  {
   "cell_type": "code",
   "execution_count": null,
   "metadata": {},
   "outputs": [],
   "source": [
    "sns.set(rc={\"figure.figsize\":(20, 5)}) #define figure size\n",
    "\n",
    "ax = sns.boxplot(x='year', y='yield', data=data, whis=10)\n",
    "ax.set_ylabel('Yield', fontsize= 30)\n",
    "ax.set_xlabel('Year', fontsize = 30)\n",
    "ax.tick_params(labelsize=15, rotation=45)\n",
    "ax.set_title('U.S. Soybean annual yield ['+ r'$t$ $ha^{-1}$'+']', fontsize = 50)"
   ]
  },
  {
   "cell_type": "markdown",
   "metadata": {},
   "source": [
    "---\n",
    "<a id='section_3.3'></a>\n",
    "\n",
    "## 3.3 Climatology, trend, and interannual variability\n",
    "\n",
    "Back to [Table of contents](#section_0)"
   ]
  },
  {
   "cell_type": "markdown",
   "metadata": {},
   "source": [
    "### Obtain the yield climatology at each (lat, lon) grid point"
   ]
  },
  {
   "cell_type": "code",
   "execution_count": null,
   "metadata": {},
   "outputs": [],
   "source": [
    "data_yield      = data[['lat', 'lon', 'year', 'yield']]\n",
    "data_yield_clim = data_yield.groupby(['lat', 'lon']).mean().reset_index()\n",
    "data_yield_clim.head()"
   ]
  },
  {
   "cell_type": "markdown",
   "metadata": {},
   "source": [
    "### Obtain the yield trend at each (lat, lon) grid point"
   ]
  },
  {
   "cell_type": "code",
   "execution_count": null,
   "metadata": {},
   "outputs": [],
   "source": [
    "data_yield_trend = data_yield.groupby(['lat', 'lon'])['yield'].apply(lambda x: x.pct_change().mean()).reset_index(name='trend')\n",
    "data_yield_trend.head()"
   ]
  },
  {
   "cell_type": "markdown",
   "metadata": {},
   "source": [
    "### Visualize the yield climatology and trend map\n",
    "\n",
    "Both climatology and trend present a west-east dipole pattern. The contrast between the Great Plains and the rest Soybean production regions stands out. Climatologically, the Great Plains produce less soybean yield compared to other regions. The long-term trend, however, suggests the Great Plains as a hot spot area that experienced soybean yield increases from 1981 to 2016. "
   ]
  },
  {
   "cell_type": "code",
   "execution_count": null,
   "metadata": {},
   "outputs": [],
   "source": [
    "fig, axes = plt.subplots(nrows=1, ncols=2, figsize = (20, 10))\n",
    "axes[0] = data_yield_clim.plot(x = 'lon', y = 'lat', kind = 'scatter', c = 'yield', \\\n",
    "                     colormap = 'YlOrRd', vmin = 0, vmax = 5, ax = axes[0])\n",
    "axes[1] = data_yield_trend.plot(x = 'lon', y = 'lat', kind = 'scatter', c = 'trend', \\\n",
    "                     colormap = 'RdBu_r', vmin=-.1, vmax=.1, ax= axes[1])\n",
    "\n",
    "axes[0].set_xlabel('Longitude', fontsize = 20)\n",
    "axes[0].set_ylabel('Latitude', fontsize = 20)\n",
    "axes[0].set_title('Soybean yield climatology (1981-2016)', fontsize = 20)\n",
    "axes[0].tick_params(axis='both', which='major', labelsize=20)\n",
    "\n",
    "axes[1].set_xlabel('Longitude', fontsize = 20)\n",
    "axes[1].set_ylabel('Latitude', fontsize = 20)\n",
    "axes[1].set_title('Soybean yield trend (1981-2016)', fontsize = 20)\n",
    "axes[1].tick_params(axis='both', which='major', labelsize=20)\n",
    "\n",
    "fig.tight_layout()"
   ]
  },
  {
   "cell_type": "markdown",
   "metadata": {},
   "source": [
    "### `To do : calculate and visualize the interannual variability of soybean yield.` "
   ]
  },
  {
   "cell_type": "markdown",
   "metadata": {},
   "source": [
    "---\n",
    "<a id='section_4'></a>\n",
    "\n",
    "# 4. EDA of the climate data \n",
    "\n",
    "In this section, we focus on dealiing with missing values in the NLDAS dataset. We will fill the NaNs with the forward interpolation method, and discard variables that have too many missing values. We will focus on `feature selection` in [section 5](#section_5). \n",
    "\n",
    "Back to [Table of contents](#section_0)"
   ]
  },
  {
   "cell_type": "markdown",
   "metadata": {},
   "source": [
    "<a id='section_4.1'></a>\n",
    "\n",
    "## 4.1 Get familar with climate variables and their standard names\n",
    "\n",
    "### We will borrow the raw .nc4 file to obtain this information. To ease the narrative, we will use `climate` to denote the `NLDAS` dataset.  "
   ]
  },
  {
   "cell_type": "code",
   "execution_count": null,
   "metadata": {},
   "outputs": [],
   "source": [
    "path_climate         = os.path.join(base_dir, 'downloads/NLDAS/')\n",
    "test_climate_ds      = xr.open_dataset(path_climate + 'NLDAS_NOAH0125_M.A198101.020.nc.SUB.nc4')\n",
    "test_climate_df      = test_climate_ds.to_dataframe()\n",
    "\n",
    "# .reset_index() helps to assign lat and lon for each entry\n",
    "test_climate_df      = test_climate_df.reset_index()\n",
    "\n",
    "# Read in bnds 0 only, and sort values by the ascending order of lat and lon\n",
    "test_climate_sorted  = test_climate_df[test_climate_df['bnds'] == 0].sort_values(by = ['lat', 'lon'])\n",
    "climate_column_names = list(test_climate_sorted)\n",
    "climate_column_names"
   ]
  },
  {
   "cell_type": "markdown",
   "metadata": {},
   "source": [
    "### Create a list named `climate_variable_list` to contain all the climate variable column names"
   ]
  },
  {
   "cell_type": "code",
   "execution_count": null,
   "metadata": {},
   "outputs": [],
   "source": [
    "climate_variable_list = climate_column_names[5:len(climate_column_names)]\n",
    "climate_variable_list"
   ]
  },
  {
   "cell_type": "markdown",
   "metadata": {},
   "source": [
    "### Create a dictionary `climate_variable_dict` to include paired climate variable column name, standard name, and units\n",
    "\n",
    "The standard name helps us to understand the physical meaning of each variable. "
   ]
  },
  {
   "cell_type": "code",
   "execution_count": null,
   "metadata": {},
   "outputs": [],
   "source": [
    "climate_variable_name_units = []\n",
    "for index in range(0,len(climate_variable_list)):\n",
    "    name      = test_climate_ds[climate_variable_list[index]].standard_name\n",
    "    units     = test_climate_ds[climate_variable_list[index]].units\n",
    "    name_units= name + ' ('+units+')'\n",
    "    climate_variable_name_units.append(name_units)\n",
    "\n",
    "climate_variable_dict = dict(zip(climate_variable_list, climate_variable_name_units))\n",
    "climate_variable_dict"
   ]
  },
  {
   "cell_type": "markdown",
   "metadata": {},
   "source": [
    "---\n",
    "<a id='section_4.2'></a>\n",
    "\n",
    "\n",
    "## 4.2 Check the missing values\n",
    "\n",
    "Back to [Table of contents](#section_0)\n",
    "\n",
    "### First to print out the `data.info` to remind of ourselves about the dataframe content\n",
    "\n",
    "### We have 53384 records. "
   ]
  },
  {
   "cell_type": "code",
   "execution_count": null,
   "metadata": {},
   "outputs": [],
   "source": [
    "data.info"
   ]
  },
  {
   "cell_type": "markdown",
   "metadata": {},
   "source": [
    "### We have 641 columns, with the climate related columns start at index 5. "
   ]
  },
  {
   "cell_type": "code",
   "execution_count": null,
   "metadata": {},
   "outputs": [],
   "source": [
    "data_columns        = data.columns\n",
    "data_columns"
   ]
  },
  {
   "cell_type": "markdown",
   "metadata": {},
   "source": [
    "### We create `data_climate_columns` by indexing `data_columns` from the 5th to the last index.  \n",
    "\n",
    "### Thus, `data_climate_columns` contains all climate related column names in the data dataframe."
   ]
  },
  {
   "cell_type": "code",
   "execution_count": null,
   "metadata": {},
   "outputs": [],
   "source": [
    "data_climate_columns = data_columns[5:641]\n",
    "data_climate_columns"
   ]
  },
  {
   "cell_type": "markdown",
   "metadata": {},
   "source": [
    "### We now check the counts of NaN values for each climate column. \n",
    "\n",
    "The printed outputs suggest that most variables contain 285 missing values across the dataframe. It's likely that these missing values locate at the same areas for different variables. Streamflow has much more missing points (the count is 3170)."
   ]
  },
  {
   "cell_type": "code",
   "execution_count": null,
   "metadata": {},
   "outputs": [],
   "source": [
    "for index in range(0,len(data_climate_columns)):\n",
    "    column = data_climate_columns[index]\n",
    "    if data[column].isnull().values.any():\n",
    "        print('NaN exists ('+str(data[column].isna().sum())+') : '+ column)"
   ]
  },
  {
   "cell_type": "markdown",
   "metadata": {},
   "source": [
    "---\n",
    "## Where do the missing values locate? \n",
    "\n",
    "### Let's do a quick check. Here, we use `SWdown_Jan` and `Streamflow_Jan` as example, to get a sense of where the missing value locate, and why the Streamflow has so many missing values. \n",
    "\n",
    "As shown below, `SWdown_Jan` and `Rainf_Jan` share the same missing value locations, and there are only a few missing value across the domain for each month. We did not check other variables that have the same total amount of NaN values, but we expect they all share the same locations for missing values. It won't matter even if not, because our goal is to make sure there are not many values missing and it's easy for us to fill the missing value with interpolation. \n",
    "\n",
    "However, `Streamflow_Jan` is a different creature. A lot of streamflow values are missing in the Northeast U.S."
   ]
  },
  {
   "cell_type": "code",
   "execution_count": null,
   "metadata": {},
   "outputs": [],
   "source": [
    "def plot_NaN(var):\n",
    "    \"\"\"\n",
    "    Visualize where do the Nan values in the climate dataframe locate.\n",
    "    \n",
    "    Parameters\n",
    "    ----------\n",
    "    var: string\n",
    "        variable name of interest\n",
    "        \n",
    "    Returns\n",
    "    ----------\n",
    "    plot \n",
    "    \n",
    "    \"\"\"\n",
    "    \n",
    "    data_column   = data[var]\n",
    "    data_NaN      = data[['lat', 'lon', var]]\n",
    "    \n",
    "    data_NaN[var] = 0\n",
    "    \n",
    "    for index in range(0, len(data)):\n",
    "        if math.isnan(data_column[index]):\n",
    "            data_NaN[var][index] = 10\n",
    "            \n",
    "    #sns.set(rc={\"figure.figsize\":(8, 5)}) #width=8, height=4\n",
    "    fig, ax = plt.subplots(figsize=(8,5))\n",
    "    data_NaN.plot(x = 'lon', y = 'lat', kind = 'scatter', c = var, colormap = 'Reds', ax = ax)\n",
    "    ax.set_xlabel('Longitude', fontsize = 20)\n",
    "    ax.set_ylabel('Latitude', fontsize = 20)\n",
    "    ax.set_title(var + '(missing value highlighted)', fontsize = 20)"
   ]
  },
  {
   "cell_type": "code",
   "execution_count": null,
   "metadata": {},
   "outputs": [],
   "source": [
    "plot_NaN('SWdown_Jan')"
   ]
  },
  {
   "cell_type": "code",
   "execution_count": null,
   "metadata": {},
   "outputs": [],
   "source": [
    "plot_NaN('Rainf_Jan')"
   ]
  },
  {
   "cell_type": "code",
   "execution_count": null,
   "metadata": {},
   "outputs": [],
   "source": [
    "plot_NaN('Streamflow_Jan')"
   ]
  },
  {
   "cell_type": "markdown",
   "metadata": {},
   "source": [
    "---\n",
    "<a id='section_4.3'></a>\n",
    "\n",
    "\n",
    "## 4.3 Fill the missing values\n",
    "\n",
    "\n",
    "### We make a copy of `data` and then fill the NaN values using the interpolation method\n",
    "\n",
    "<div class=\"alert alert-block alert-danger\">\n",
    "Note that we use the deep copy to make sure any future changes in the new dataframe won't be reflected in the original copy.\n",
    "</div>"
   ]
  },
  {
   "cell_type": "code",
   "execution_count": null,
   "metadata": {},
   "outputs": [],
   "source": [
    "data_filled        = data.copy(deep = True)\n",
    "for index in range(0,len(data_columns)):\n",
    "    column = data_columns[index]\n",
    "    if data_filled[column].isnull().values.any():\n",
    "        data_filled[column].interpolate(method='linear', direction='forward', inplace=True)"
   ]
  },
  {
   "cell_type": "markdown",
   "metadata": {},
   "source": [
    "### Print out those variables that still contain NaN after the interpolation\n",
    "\n",
    "It turns out that Streamflow still contains NaN after the interpolation method, likely because there are a bunch of NaN points in the Northeastern U.S. whose nearest neighbors are also NaNs."
   ]
  },
  {
   "cell_type": "code",
   "execution_count": null,
   "metadata": {},
   "outputs": [],
   "source": [
    "for index in range(0,len(data_columns)):\n",
    "    column = data_columns[index]\n",
    "    if data_filled[column].isnull().values.any():\n",
    "        print('NaN exists ('+str(data_filled[column].isna().sum())+') : '+ column)"
   ]
  },
  {
   "cell_type": "markdown",
   "metadata": {},
   "source": [
    "---\n",
    "<a id='section_5'></a>\n",
    "\n",
    "# 5. Feature selection \n",
    "    \n",
    "Back to [Table of contents](#section_0)\n",
    "\n",
    "Now, let's decide which features to keep as predictors. Recall that we have multiple variables from the NLDAS data, and we will likely won't need that many for our modeling. \n",
    "\n",
    "### Our mental model of feature selection for the soybean yield prediction works like this:\n",
    "\n",
    "    1. Given that the typical U.S. soybean season spans May through October (May-June: Plant; Jul-August: Mid-season; September-October: Harvest), November and December climate information from the current year won't tell us much about how the soybean production performs in the current year. We thus drop all the current November and December variables. \n",
    "    \n",
    "    2. We will detect the important features based on the correlation heatmap between annual yield and climate features; we will keep variables that show strong correlation with yield, and discard those showing weak correlations. We will do some sanity checks while working with the correlation heatmaps:\n",
    "        2.1 Some climate variables are strong correalted with each other, therefore for those features that exhibit strong correlation with yield, we want to only include the most relevant one and remove the redundant ones. \n",
    "        \n",
    "        2.2 The correlation heatmap approach is based on the assumption of a linear correlation between yield and climate data. However, yield may have nonlinear relationship with some variables, such as temperature, precipitation and snow related variables. Thus, it's worth to show other visualization to decide whether to keep some variables or not. \n",
    "    \n",
    "    3. Some variables directly reflect the yield data. For example, leaf area index (LAI) has strong correlation with the yield data, but does not necessarily provide predictive power. That being said, these vegetation and land cover related features from earlier seasons may have a predictive power.  \n",
    "\n",
    "### Workflow of this section:\n",
    "\n",
    "   5.1 [Drop current Nov-Dec columns and streamflow data](#section_5.1)\n",
    "   \n",
    "   5.2 [Exploring the correlation between yield and current monthly climate](#section_5.2)\n",
    "   \n",
    "   5.3 [Exploring the correlation between yield and previous year climate](#section_5.3)\n"
   ]
  },
  {
   "cell_type": "markdown",
   "metadata": {},
   "source": [
    "---\n",
    "## We do feature selection in each subsections of section 5. We create two empty lists to track all columns to drop / to keep\n",
    "\n",
    "- ### `drop_columns` - all feature columns that will be dropped out of `df_target_feature`\n",
    "\n",
    "- ### `keep_columns` - all feature columns that stay in or add to `df_target_feature`"
   ]
  },
  {
   "cell_type": "code",
   "execution_count": null,
   "metadata": {},
   "outputs": [],
   "source": [
    "drop_columns = []\n",
    "keep_columns = []"
   ]
  },
  {
   "cell_type": "markdown",
   "metadata": {},
   "source": [
    "---\n",
    "<a id='section_5.1'></a>\n",
    "\n",
    "## 5.1 Drop current Nov-Dec columns and streamflow data\n",
    "\n",
    "Back to [Table of contents](#section_0)\n",
    "\n",
    "We create a new dataframe named `df_target_feature` to store the yield data and all final features that we want to include in our model. We first drop current Nov and Dec columns and streamflow data and save as `df_target_feature`, and we will continue updating `df_target_feature` by dropping other irrelevant features and including engineered variables. \n",
    "\n",
    "We will save this `df_target_feature` at the end of the notebook, and will feed it to our model for predictions. "
   ]
  },
  {
   "cell_type": "markdown",
   "metadata": {},
   "source": [
    "### Copy `data_filled` to `df_target_feature`\n",
    "\n",
    "<div class=\"alert alert-block alert-danger\">\n",
    "Note that we use the deep copy to make sure any future changes in the new dataframe won't be reflected in the original copy.\n",
    "</div>"
   ]
  },
  {
   "cell_type": "code",
   "execution_count": null,
   "metadata": {},
   "outputs": [],
   "source": [
    "df_target_feature = data_filled.copy(deep = True)"
   ]
  },
  {
   "cell_type": "markdown",
   "metadata": {},
   "source": [
    "### Columns to be dropped from 5.1: Nov, Dec, and Streamflow"
   ]
  },
  {
   "cell_type": "code",
   "execution_count": null,
   "metadata": {},
   "outputs": [],
   "source": [
    "drop_Nov_Dec_streamflow = [col for col in data_filled.columns if col.endswith('_Nov') or \\\n",
    "                                                                 col.endswith('_Dec') or \\\n",
    "                                                                 col.startswith('Streamflow_')]"
   ]
  },
  {
   "cell_type": "code",
   "execution_count": null,
   "metadata": {},
   "outputs": [],
   "source": [
    "drop_columns.append(drop_Nov_Dec_streamflow)"
   ]
  },
  {
   "cell_type": "markdown",
   "metadata": {},
   "source": [
    "### Drop the columns (`set inplace = True to directly update df_target_feature`)"
   ]
  },
  {
   "cell_type": "code",
   "execution_count": null,
   "metadata": {
    "scrolled": true
   },
   "outputs": [],
   "source": [
    "df_target_feature.drop(drop_Nov_Dec_streamflow, axis = 1, inplace=True)\n",
    "df_target_feature"
   ]
  },
  {
   "cell_type": "markdown",
   "metadata": {},
   "source": [
    "<a id='save_raw_feature'></a>\n",
    "\n",
    "### Save this `df_target_feature` as a raw feature dataframe "
   ]
  },
  {
   "cell_type": "code",
   "execution_count": null,
   "metadata": {},
   "outputs": [],
   "source": [
    "df_target_feature.to_csv(data_dir+'US_SoybeanYield_ClimateFeature_1981-2016_v0.csv')"
   ]
  },
  {
   "cell_type": "markdown",
   "metadata": {},
   "source": [
    "---\n",
    "<a id='section_5.2'></a>\n",
    "\n",
    "## 5.2 Exploring the correlation between yield and current monthly climate\n",
    "\n",
    "Back to [Table of contents](#section_0)\n",
    "\n",
    "### We group the variables that have closer physical process/meanings/effects together, and will explore each of the following five subsection one by one.\n",
    "\n",
    "<div class=\"alert alert-block alert-info\">\n",
    "\n",
    "### [5.2a Suface energy flux variables:](#section_5.2a)\n",
    "\n",
    "- 'SWdown': 'Shortwave radiation flux downwards (surface) (W m-2)'\n",
    "- 'LWdown': 'Longwave radiation flux downwards (surface) (W m-2)'\n",
    "- 'SWnet': 'Net shortwave radiation flux (surface) (W m-2)'\n",
    "- 'LWnet': 'Net longwave radiation flux (surface) (W m-2)'\n",
    "- 'Qle': 'Latent heat flux (W m-2)'\n",
    "- 'Qh': 'Sensible heat flux (W m-2)'\n",
    "- 'Qg': 'Ground heat flux (W m-2)'\n",
    "- 'Qf': 'Snow phase-change heat flux (W m-2)'\n",
    "</div>\n",
    "\n",
    "<div class=\"alert alert-block alert-info\">\n",
    "    \n",
    "### [5.2b Surface water flux / storage variables:](#section_5.2b)\n",
    "\n",
    "- 'Snowf': 'Frozen precipitation (snowfall) (kg m-2)'\n",
    "- 'Rainf': 'Liquid precipitation (rainfall) (kg m-2)'\n",
    "- 'Evap': 'Total evapotranspiration (kg m-2)'\n",
    "- 'Qs': 'Surface runoff (non-infiltrating) (kg m-2)'\n",
    "- 'Qsb': 'Subsurface runoff (baseflow) (kg m-2)'\n",
    "- 'Qsm': 'Snowmelt (kg m-2)'\n",
    "- 'SWE': 'Snow Water Equivalent (kg m-2)'\n",
    "- 'SnowDepth': 'Snow depth (m)'\n",
    "- 'SnowFrac': 'Snow cover (fraction)'\n",
    "- 'PotEvap': 'Potential evapotranspiration (W m-2)'\n",
    "- 'ECanop': 'Canopy water evaporation (W m-2)'\n",
    "- 'TVeg': 'Transpiration (W m-2)'\n",
    "- 'ESoil': 'Direct evaporation from bare soil (W m-2)'\n",
    "- 'SubSnow': 'Sublimation (evaporation from snow) (W m-2)'\n",
    "- 'CanopInt': 'Plant canopy surface water (kg m-2)'\n",
    "</div>\n",
    "\n",
    "<div class=\"alert alert-block alert-info\">\n",
    "\n",
    "### [5.2c Temperature related variables:](#section_5.2c)\n",
    "    \n",
    "- 'AvgSurfT': 'Average surface skin temperature (K)'\n",
    "- 'Albedo': 'Surface albedo (%)'\n",
    "- 'SoilT_0_10cm': 'Soil temperature (0-10cm) (K)'\n",
    "- 'SoilT_10_40cm': 'Soil temperature (10-40cm) (K)'\n",
    "- 'SoilT_40_100cm': 'Soil temperature (40-100cm) (K)'\n",
    "- 'SoilT_100_200cm': 'Soil temperature (100-200cm) (K)'\n",
    "</div>\n",
    "\n",
    "<div class=\"alert alert-block alert-info\">\n",
    "\n",
    "### [5.2d Soil moisture related:](#section_5.2d) \n",
    "   \n",
    "- 'SoilM_0_10cm': 'Soil moisture content (0-10cm) (kg m-2)'\n",
    "- 'SoilM_10_40cm': 'Soil moisture content (10-40cm) (kg m-2)'\n",
    "- 'SoilM_40_100cm': 'Soil moisture content (40-100cm) (kg m-2)'\n",
    "- 'SoilM_100_200cm': 'Soil moisture content (100-200cm) (kg m-2)'\n",
    "- 'SoilM_0_100cm': 'Soil moisture content (0-100cm) (kg m-2)'\n",
    "- 'SoilM_0_200cm': 'Soil moisture content (0-200cm) (kg m-2)'\n",
    "- 'RootMoist': 'Root zone soil moisture (kg m-2)'\n",
    "  \n",
    "- 'SMLiq_0_10cm': 'Liquid soil moisture content (0-10cm) (kg m-2)'\n",
    "- 'SMLiq_10_40cm': 'Liquid soil moisture content (10-40cm) (kg m-2)'\n",
    "- 'SMLiq_40_100cm': 'Liquid soil moisture content (40-100cm) (kg m-2)'\n",
    "- 'SMLiq_100_200cm': 'Liquid soil moisture content (100-200cm) (kg m-2)'\n",
    "\n",
    "- 'SMAvail_0_100cm': 'Soil moisture availability (0-100cm) (%)'\n",
    "- 'SMAvail_0_200cm': 'Soil moisture availability (0-200cm) (%)'\n",
    "</div>\n",
    "\n",
    "<div class=\"alert alert-block alert-info\">\n",
    "\n",
    "### [5.2e Vegetation and land surface parameters:](#section_5.2e)    \n",
    "\n",
    "These parameters are closely related to surface vegetation cover, so likely a direct reflection of the crop yield in the current year. \n",
    "\n",
    "- 'LAI': 'Leaf Area Index (unitless)'\n",
    "- 'GVEG': 'Green vegetation (fraction)'\n",
    "- 'ACond': 'Aerodynamic conductance (m s-1)'\n",
    "- 'CCond': 'Canopy conductance (m s-1)'\n",
    "- 'RCS': 'Solar parameter in canopy conductance (fraction)'\n",
    "- 'RCT': 'Temperature parameter in canopy conductance (fraction)'\n",
    "- 'RCQ': 'Humidity parameter in canopy conductance (fraction)'\n",
    "- 'RCSOL': 'Soil moisture parameter in canopy conductance (fraction)'\n",
    "- 'RSmin': 'Minimal stomatal resistance (s m-1)'\n",
    "- 'RSMacr': 'Relative soil moist. availability control factor (0-1)'\n",
    "\n",
    "</div>"
   ]
  },
  {
   "cell_type": "markdown",
   "metadata": {},
   "source": [
    "---\n",
    "### Use our customized functions for visualization  "
   ]
  },
  {
   "cell_type": "markdown",
   "metadata": {},
   "source": [
    "#### `Function: plot_corr_yield_current_climate`"
   ]
  },
  {
   "cell_type": "code",
   "execution_count": null,
   "metadata": {},
   "outputs": [],
   "source": [
    "print(inspect.getdoc(utils.plot_corr_yield_current_climate))"
   ]
  },
  {
   "cell_type": "markdown",
   "metadata": {},
   "source": [
    "#### `Function: plot_corr_climate`"
   ]
  },
  {
   "cell_type": "code",
   "execution_count": null,
   "metadata": {},
   "outputs": [],
   "source": [
    "print(inspect.getdoc(utils.plot_corr_climate))"
   ]
  },
  {
   "cell_type": "markdown",
   "metadata": {},
   "source": [
    "#### `Function: plot_corr_climate_selected_months`"
   ]
  },
  {
   "cell_type": "code",
   "execution_count": null,
   "metadata": {},
   "outputs": [],
   "source": [
    "print(inspect.getdoc(utils.plot_corr_climate_selected_months))"
   ]
  },
  {
   "cell_type": "markdown",
   "metadata": {},
   "source": [
    "#### `Function: panel_scatter`"
   ]
  },
  {
   "cell_type": "code",
   "execution_count": null,
   "metadata": {},
   "outputs": [],
   "source": [
    "print(inspect.getdoc(utils.panel_scatter))"
   ]
  },
  {
   "cell_type": "markdown",
   "metadata": {},
   "source": [
    "---\n"
   ]
  },
  {
   "cell_type": "markdown",
   "metadata": {},
   "source": [
    "<a id='section_5.2a'></a>\n",
    "\n",
    "<div class=\"alert alert-block alert-info\">\n",
    "\n",
    "### 5.2a Suface energy flux variables (jump to the [5.2a summary](#section_5.2a_summary))\n",
    "    \n",
    "- 'SWdown': 'Shortwave radiation flux downwards (surface) (W m-2)'\n",
    "- 'LWdown': 'Longwave radiation flux downwards (surface) (W m-2)'\n",
    "- 'SWnet': 'Net shortwave radiation flux (surface) (W m-2)'\n",
    "- 'LWnet': 'Net longwave radiation flux (surface) (W m-2)'\n",
    "- 'Qle': 'Latent heat flux (W m-2)'\n",
    "- 'Qh': 'Sensible heat flux (W m-2)'\n",
    "- 'Qg': 'Ground heat flux (W m-2)'\n",
    "- 'Qf': 'Snow phase-change heat flux (W m-2)'\n",
    "\n",
    "</div>\n",
    "\n",
    "Back to [Table of contents](#section_0)"
   ]
  },
  {
   "cell_type": "markdown",
   "metadata": {},
   "source": [
    "### In section 5.2a, we first explor the radiative fluxes: `SWdown`, `LWdown`, `SWnet`, `LWnet`\n"
   ]
  },
  {
   "cell_type": "markdown",
   "metadata": {},
   "source": [
    "#### `Figure: Yield versus SWdown, LWdown, SWnet, and LWnet`\n",
    "\n",
    "- SWdown and SWnet show almost identical relationship with yield, they both show negative correlation with yield throughout the whole year. The negative correlation between shortwave radiation and yield is particularly strong in June and July.\n",
    "\n",
    "- Both LWdown and LWnet show positive correlation with yield, but the magnitude of correlation coefficients differs a lot. The correlation between LWdown and yield is very weak, while the LWnet exhibits strong positive correlation with yield, especially during the soybean season. "
   ]
  },
  {
   "cell_type": "code",
   "execution_count": null,
   "metadata": {
    "scrolled": true
   },
   "outputs": [],
   "source": [
    "utils.plot_corr_yield_current_climate(df_target_feature, \\\n",
    "                                      ['SWdown', 'LWdown', 'SWnet', 'LWnet'], \\\n",
    "                                      climate_variable_dict)"
   ]
  },
  {
   "cell_type": "markdown",
   "metadata": {},
   "source": [
    "### Feature engineering: `JJA_SWdown` and `JJA_LWnet`\n",
    "\n",
    "- Compared to SWnet and LWdown, SWdown and LWnet appear to have a stornger correlation with yield\n",
    "\n",
    "- Not all months show a strong correlation, so let's just focus on JJA (June to August), which show stronger correlation with yield. "
   ]
  },
  {
   "cell_type": "code",
   "execution_count": null,
   "metadata": {},
   "outputs": [],
   "source": [
    "df_target_feature['JJA_SWdown'] = df_target_feature[['SWdown_Jun', 'SWdown_Jul', 'SWdown_Aug']].mean(axis=1)\n",
    "df_target_feature['JJA_LWnet']  = df_target_feature[['LWnet_Jun', 'LWnet_Jul', 'LWnet_Aug']].mean(axis=1)\n",
    "\n",
    "climate_variable_dict.update({'JJA_SWdown': 'June to August averaged surface incoming solar radiation (W/m2)'})\n",
    "climate_variable_dict.update({'JJA_LWnet': 'June to August averaged surface net longwave radiation (W/m2)'})"
   ]
  },
  {
   "cell_type": "markdown",
   "metadata": {},
   "source": [
    "### Double-check the aggregated SWdown and LWnet correlation with yield, compared to the individual summer months\n",
    "\n",
    "- Both JJA_SWdown and JJA_LWnet perform better than the individual summer month's SWdown and LWnet\n",
    "\n",
    "- JJA_SWdown and JJA_LWnet are negatively correlated, but not too much, the correlation coefficient is ~ - 0.56\n",
    "\n",
    "- JJA_SWdown is highly correlated with SWdown_Jun, SWdown_Jul, and SWdown_Aug; JJA_LWnet is highly correlated with LWnet_Jun, LWnet_JUl, and LWnet_Aug, again suggesting that it's reasonable to keep JJA_SWdown and JJA_LWnet only. "
   ]
  },
  {
   "cell_type": "code",
   "execution_count": null,
   "metadata": {},
   "outputs": [],
   "source": [
    "df_target_feature[['yield', 'JJA_SWdown', 'JJA_LWnet', \\\n",
    "                   'SWdown_Jun', 'SWdown_Jul', 'SWdown_Aug', 'LWnet_Jun', 'LWnet_Jul', 'LWnet_Aug']].corr()"
   ]
  },
  {
   "cell_type": "markdown",
   "metadata": {},
   "source": [
    "---\n",
    "\n",
    "### We now explore other surface energy fluxes: `Qle`, `Qh`, `Qg`, `Qf`\n",
    "\n"
   ]
  },
  {
   "cell_type": "markdown",
   "metadata": {},
   "source": [
    "### Feature engineering: `evaporative fraction (EF)`\n",
    "\n",
    "- Evaporative fraction, defined as the latent heat flux divided by the net available surface energy (e.g., SWnet - G), might be a better predictor to capture the impacts of surface turbulent heat flux partitioning on soybean yield."
   ]
  },
  {
   "cell_type": "code",
   "execution_count": null,
   "metadata": {},
   "outputs": [],
   "source": [
    "month_suffix = ['_Jan', '_Feb', '_Mar', '_Apr', '_May', '_Jun', '_Jul', '_Aug', '_Sep', '_Oct']\n",
    "\n",
    "for month in month_suffix:\n",
    "    df_target_feature['EF'+month] = df_target_feature['Qle'+month] / \\\n",
    "    (df_target_feature['SWnet'+month] - df_target_feature['Qg'+month])\n",
    "\n",
    "climate_variable_dict.update({'EF': 'Evaporative fraction (unitless)'})"
   ]
  },
  {
   "cell_type": "markdown",
   "metadata": {},
   "source": [
    "#### `Figure: Yield versus Qle, Qh, EF, Qg, Qf` \n",
    "\n",
    "- Discard Qf and Qh due to very weak correlation \n",
    "\n",
    "- Both Qle and EF has modest correlation with yield, it's likely that Qle and EF are also highly correlatd, so we will choose one from Qle and EF. \n"
   ]
  },
  {
   "cell_type": "code",
   "execution_count": null,
   "metadata": {},
   "outputs": [],
   "source": [
    "utils.plot_corr_yield_current_climate(df_target_feature, \\\n",
    "                                     ['Qle', 'Qh', 'EF', 'Qg', 'Qf'], \\\n",
    "                                     climate_variable_dict)"
   ]
  },
  {
   "cell_type": "markdown",
   "metadata": {},
   "source": [
    "#### `Figure: correlation between SWdown & EF, LWnet & EF, and Qle & EF`\n",
    "\n",
    "- Qle and EF are highly correlated, so we only keep one. Given that EF has stronger positive correlation with yield, we keep EF and discard Qle. \n",
    "\n",
    "- SWdown and EF do not have concerning strong correlations, but LWnet is highly correlated with EF in Septermber and October. \n",
    "\n",
    "- We need to decide whether we want to do some aggregation of EF. \n",
    "\n",
    "- I do not fully understand how Qg affect yield. Qg is often viewed as a residual of other surface energy fluxes. To ease the final interpretation, I decide to discard this feature for now, despite it may provide some predictive power. \n"
   ]
  },
  {
   "cell_type": "code",
   "execution_count": null,
   "metadata": {},
   "outputs": [],
   "source": [
    "utils.plot_corr_climate(df_target_feature, ['SWdown', 'EF'], ['LWnet', 'EF'], ['Qle', 'EF'], ['LWnet', 'Qg'])"
   ]
  },
  {
   "cell_type": "markdown",
   "metadata": {},
   "source": [
    "### Decide how to include EF: selected months or aggregation?"
   ]
  },
  {
   "cell_type": "code",
   "execution_count": null,
   "metadata": {},
   "outputs": [],
   "source": [
    "df_target_feature['JFMA_EF'] = df_target_feature[['EF_Jan', 'EF_Feb', 'EF_Mar', 'EF_Apr']].mean(axis=1)\n",
    "df_target_feature['MJ_EF']   = df_target_feature[['EF_May', 'EF_Jun']].mean(axis=1)\n",
    "df_target_feature['JJA_EF']  = df_target_feature[['EF_Jun', 'EF_Jul', 'EF_Aug']].mean(axis=1)\n",
    "df_target_feature['JA_EF']   = df_target_feature[['EF_Jul', 'EF_Aug']].mean(axis=1)\n",
    "df_target_feature['ASO_EF']  = df_target_feature[['EF_Aug', 'EF_Sep', 'EF_Oct']].mean(axis=1)\n",
    "df_target_feature['SO_EF']   = df_target_feature[['EF_Sep', 'EF_Oct']].mean(axis=1)\n",
    "\n",
    "df_target_feature[['yield', 'JFMA_EF', 'MJ_EF', 'JA_EF', 'JJA_EF','ASO_EF', 'SO_EF']].corr()"
   ]
  },
  {
   "cell_type": "markdown",
   "metadata": {},
   "source": [
    "#### `Figure: scatter between yield and different EF options`\n",
    "\n",
    "The above .corr table and the below scatter plots suggest:\n",
    "\n",
    "- Both Jan-Apr and Sep-Oct averaged EF show somewhat modest positive correlation with yield, not too strong, close to 0.5. JFMA_EF and SO_EF are positively correlated, around 0.6, so not too concerning. \n",
    "\n",
    "- MJ_EF is not useful.\n",
    "\n",
    "- JA_EF and JJA_EF are very similar, given that JA_EF has a higher correlation with SO_EF, we will keep JJA_EF. "
   ]
  },
  {
   "cell_type": "code",
   "execution_count": null,
   "metadata": {},
   "outputs": [],
   "source": [
    "utils.panel_scatter(df_target_feature, \\\n",
    "             ['JFMA_EF', 'yield'], \\\n",
    "             ['MJ_EF', 'yield'], \\\n",
    "             ['JA_EF', 'yield'], \\\n",
    "             ['JJA_EF', 'yield'], \\\n",
    "             ['SO_EF', 'yield'])"
   ]
  },
  {
   "cell_type": "markdown",
   "metadata": {},
   "source": [
    "<a id='section_5.2a_summary'></a>\n",
    "\n",
    "<div class=\"alert alert-block alert-success\">\n",
    "\n",
    "### 5.2a Suface energy flux variables Summary (back to [the beginning of 5.2a](#section_5.2a))\n",
    "    \n",
    "<b>Discard all</b>\n",
    "    \n",
    "   - 'LWnet': 'Net longwave radiation flux (surface) (W m-2)'\n",
    "    \n",
    "   - 'SWdown': 'Shortwave radiation flux downwards (surface) (W m-2)'\n",
    "    \n",
    "   - 'LWdown': 'Longwave radiation flux downwards (surface) (W m-2)'\n",
    "    \n",
    "   - 'SWnet': 'Net shortwave radiation flux (surface) (W m-2)' \n",
    "    \n",
    "   - 'Qle': 'Latent heat flux (W m-2)' \n",
    "    \n",
    "   - 'Qh': 'Sensible heat flux (W m-2)' \n",
    "    \n",
    "   - 'Qf': 'Snow phase-change heat flux (W m-2)' \n",
    "    \n",
    "   - 'Qg': 'Ground heat flux (W m-2)'\n",
    "    \n",
    "\n",
    "<b>Discard engineered and aggregated features</b>\n",
    "\n",
    "   - 'MJ_EF'\n",
    "    \n",
    "   - 'JA_EF'\n",
    "    \n",
    "   - 'ASO_EF'\n",
    "    \n",
    "<b>Aggregated and Engineered features to keep</b>\n",
    "    \n",
    "   - 'JJA_LWnet'\n",
    "    \n",
    "   - 'JJA_SWdown'\n",
    "    \n",
    "   - 'JFMA_EF'\n",
    "    \n",
    "   - 'JJA_EF'\n",
    "    \n",
    "   - 'SO_EF'\n",
    "    \n",
    "</div>"
   ]
  },
  {
   "cell_type": "markdown",
   "metadata": {},
   "source": [
    "### Finalize the feature selection from 5.2a\n",
    "\n",
    "   - #### `drop_energy_fluxes` - columns to drop\n",
    "   - #### `keep_energy_fluxes` - columns to keep"
   ]
  },
  {
   "cell_type": "code",
   "execution_count": null,
   "metadata": {},
   "outputs": [],
   "source": [
    "drop_energy_fluxes = [col for col in df_target_feature.columns if col.startswith('LWnet_') or \\\n",
    "                                                                  col.startswith('SWdown_') or \\\n",
    "                                                                  col.startswith('LWdown_') or \\\n",
    "                                                                  col.startswith('SWnet_') or \\\n",
    "                                                                  col.startswith('Qle_') or \\\n",
    "                                                                  col.startswith('Qh_') or \\\n",
    "                                                                  col.startswith('Qf_') or \\\n",
    "                                                                  col.startswith('Qg_') or \\\n",
    "                                                                  col.startswith('EF_')] \\\n",
    "                    + ['MJ_EF', 'JA_EF', 'ASO_EF']\n",
    "\n",
    "                   \n",
    "\n",
    "keep_energy_fluxes = ['JJA_LWnet', 'JJA_SWdown', 'JFMA_EF', 'JJA_EF', 'SO_EF']\n",
    "\n",
    "df_target_feature.drop(drop_energy_fluxes, axis=1, inplace=True)"
   ]
  },
  {
   "cell_type": "markdown",
   "metadata": {},
   "source": [
    "### Sanity check the `drop_energy_fluxes` columns are gone, and the `keep_energy_fluxes` remain."
   ]
  },
  {
   "cell_type": "code",
   "execution_count": null,
   "metadata": {},
   "outputs": [],
   "source": [
    "for col in drop_energy_fluxes:\n",
    "    if col in df_target_feature.columns:\n",
    "        print(col +' should be removed, double check your procedure.')\n",
    "\n",
    "for col in keep_energy_fluxes:\n",
    "    if not col in df_target_feature.columns:\n",
    "        print(col +' should be retained, double check your procedure.')"
   ]
  },
  {
   "cell_type": "markdown",
   "metadata": {},
   "source": [
    "### Update `drop_columns` and `keep_columns`"
   ]
  },
  {
   "cell_type": "code",
   "execution_count": null,
   "metadata": {},
   "outputs": [],
   "source": [
    "drop_columns.append(drop_energy_fluxes)\n",
    "keep_columns.append(keep_energy_fluxes)"
   ]
  },
  {
   "cell_type": "markdown",
   "metadata": {},
   "source": [
    "---\n",
    "<a id='section_5.2b'></a>\n",
    "<div class=\"alert alert-block alert-info\">\n",
    "\n",
    "### 5.2b Surface water flux / storage variables (jump to the [5.2b summary](#section_5.2b_summary))\n",
    "    \n",
    "#### Rain and Snow related\n",
    "- 'Rainf': 'Liquid precipitation (rainfall) (kg m-2)'\n",
    "- 'Snowf': 'Frozen precipitation (snowfall) (kg m-2)'\n",
    "- 'Qsm': 'Snowmelt (kg m-2)'\n",
    "- 'SWE': 'Snow Water Equivalent (kg m-2)'\n",
    "- 'SnowDepth': 'Snow depth (m)'\n",
    "- 'SnowFrac': 'Snow cover (fraction)'\n",
    "- 'SubSnow': 'Sublimation (evaporation from snow) (W m-2)'\n",
    "\n",
    "#### Evaporation related\n",
    "- 'Evap': 'Total evapotranspiration (kg m-2)'\n",
    "- 'PotEvap': 'Potential evapotranspiration (W m-2)'\n",
    "- 'ECanop': 'Canopy water evaporation (W m-2)'\n",
    "- 'TVeg': 'Transpiration (W m-2)'\n",
    "- 'ESoil': 'Direct evaporation from bare soil (W m-2)'\n",
    "- 'CanopInt': 'Plant canopy surface water (kg m-2)'\n",
    "\n",
    "#### Runoff related\n",
    "- 'Qs': 'Surface runoff (non-infiltrating) (kg m-2)'\n",
    "- 'Qsb': 'Subsurface runoff (baseflow) (kg m-2)'\n",
    "    \n",
    "</div>\n",
    "\n",
    "Back to [Table of contents](#section_0)"
   ]
  },
  {
   "cell_type": "markdown",
   "metadata": {},
   "source": [
    "---\n",
    "### Selecting the snow related variable\n",
    "\n",
    "We expect that only snow from earlier season matter, so we first double-check the correlations across the snow variables in January to April to determine whether we can remove redundant snow features if they are highly correlated. \n",
    "\n",
    "`As shown in below, Snowf is highly correlated with SWE, Qsm, SnowDepth, SnowFrac, SubSnow. We can directly discard those redundant features and keep Snowf only.`"
   ]
  },
  {
   "cell_type": "code",
   "execution_count": null,
   "metadata": {},
   "outputs": [],
   "source": [
    "spring_months     = ['_Jan', '_Feb', '_Mar', '_Apr']\n",
    "spring_Snowf      = [sub.replace('_', 'Snowf_') for sub in spring_months]\n",
    "spring_SWE        = [sub.replace('_', 'SWE_') for sub in spring_months]\n",
    "spring_Qsm        = [sub.replace('_', 'Qsm_') for sub in spring_months]\n",
    "spring_SnowDepth  = [sub.replace('_', 'SnowDepth_') for sub in spring_months]\n",
    "spring_SnowFrac   = [sub.replace('_', 'SnowFrac_') for sub in spring_months]\n",
    "spring_SubSnow    = [sub.replace('_', 'SubSnow_') for sub in spring_months]"
   ]
  },
  {
   "cell_type": "code",
   "execution_count": null,
   "metadata": {},
   "outputs": [],
   "source": [
    "utils.plot_corr_climate_selected_months(df_target_feature, \\\n",
    "                                       [spring_Snowf, spring_SWE, 'Snowf vs  SWE'],\\\n",
    "                                       [spring_Snowf, spring_Qsm, 'Snowf vs Qsm'], \\\n",
    "                                       [spring_Snowf, spring_SnowDepth, 'Snowf vs SnowDepth'],\\\n",
    "                                       [spring_Snowf, spring_SnowFrac, 'Snowf vs SnowFrac'], \\\n",
    "                                       [spring_Snowf, spring_SubSnow, 'Snowf vs SubSnow'])"
   ]
  },
  {
   "cell_type": "markdown",
   "metadata": {},
   "source": [
    "### Selecting the evaporation related variable\n",
    "\n",
    "We want to check whether the evaporation variables are redundant compared to features we already decided to retain. For example, we expect a high correlation between `SWdown` and `PotEvap` because the potential evapotranspiration reflects the net available energy at surface. Further, the `Evap` variable is equivalent to `Qle` so we expect it has high correlation with `EF`, as `Qle` does. Finally, we expect some correlation between `Evap` and other evaporative process such as `ECanop` and `TVeg`, both of which contribute to `Evap`. \n",
    "\n",
    "`As shown in below, indeed the above mentioned variables are highly correlated with each other. Thus, we will not include PotEvap, Evap, ECanop, and TVeg.`\n",
    "\n",
    "`At this moment, we are unsure about ESoil yet; ESoil does not have considerable correlation with other evaporation processes, we will keep ESoil and will check its connection with soil moisture later when we explore soil moisture variables. We also keep CanopInt for now as it does not seem to relate to Evap in a direct way.`"
   ]
  },
  {
   "cell_type": "code",
   "execution_count": null,
   "metadata": {},
   "outputs": [],
   "source": [
    "utils.plot_corr_climate(data_filled, \\\n",
    "                       ['SWdown', 'PotEvap'], \\\n",
    "                       ['Evap', 'EF'], \\\n",
    "                       ['Evap', 'ECanop'], \\\n",
    "                       ['Evap', 'TVeg'], \\\n",
    "                       ['Evap', 'ESoil'], \\\n",
    "                       ['Evap', 'CanopInt'])   "
   ]
  },
  {
   "cell_type": "markdown",
   "metadata": {},
   "source": [
    "### Selecting runoff variables \n",
    "\n",
    "We want to check whether the `Qs` and `Qsb` are somehow related, or whether these surface/subsurface runoff are connected with other hydrology controlling factors or processes. \n",
    "\n",
    "`It seems that Qs and Qsb are only weakly correlated and neither of the runoff variables present concerning strong correlations with evaporation, soil evaporation, and canopy surface water. So we decide to keep both Qs and Qsb for now.`"
   ]
  },
  {
   "cell_type": "code",
   "execution_count": null,
   "metadata": {},
   "outputs": [],
   "source": [
    "utils.plot_corr_climate(df_target_feature, \\\n",
    "                       ['Qs', 'Qsb'], \\\n",
    "                       ['Qs', 'ESoil'], \\\n",
    "                       ['Qs', 'CanopInt'], \\\n",
    "                       ['Qs', 'EF'], \\\n",
    "                       ['Qs', 'SWdown'])"
   ]
  },
  {
   "cell_type": "markdown",
   "metadata": {},
   "source": [
    "---\n",
    "### Based on our above exploration, we narrow our feature selection to following variables:\n",
    "\n",
    "   - 'Rainf': 'Liquid precipitation (rainfall) (kg m-2)'\n",
    "   \n",
    "   - 'Snowf': 'Frozen precipitation (snowfall) (kg m-2)'\n",
    "   \n",
    "   - 'ESoil': 'Direct evaporation from bare soil (W m-2)'\n",
    "    \n",
    "   - 'CanopInt': 'Plant canopy surface water (kg m-2)'\n",
    "    \n",
    "   - 'Qs': 'Surface runoff (non-infiltrating) (kg m-2)'\n",
    "    \n",
    "   - 'Qsb': 'Subsurface runoff (baseflow) (kg m-2)'\n",
    "\n",
    "### We expect `Rainf` to be an important feature, and heavier rainfall may lead to more canopy surface water and surface runoff. To explore whether we can further narrow down our feature selection, we explore the correlation between `Rainf` and the rest hydrology variables. \n",
    "\n",
    "`Both Qs and Qsb are strongly correlated with Rainf, with the correlation coefficient exceeding 0.5 in most months. Canopy surface water also has strong correlation with Rainf in April throughout October. Rainf does not correlate with Snowf, and only have strong correlation with ESoil during the beginning months of the year.`\n",
    "\n",
    "`So, let's ignore CanopInt, Qs, Qsb, and Jan to March of ESoil. Now we are left with Rainf, Snowf, ESoil, and we can further narrow down the search with these three variables.`"
   ]
  },
  {
   "cell_type": "code",
   "execution_count": null,
   "metadata": {},
   "outputs": [],
   "source": [
    "utils.plot_corr_climate(df_target_feature, \\\n",
    "                       ['Rainf', 'ESoil'], \\\n",
    "                       ['Rainf', 'CanopInt'], \\\n",
    "                       ['Rainf', 'Qs'], \\\n",
    "                       ['Rainf', 'Qsb'], \\\n",
    "                       ['Rainf', 'Snowf'])"
   ]
  },
  {
   "cell_type": "markdown",
   "metadata": {},
   "source": [
    "---\n",
    "### Narrow down to `Rainf`, `Snowf`, and `ESoil`  \n",
    "\n",
    "We now explore the correlation between `yield` and `Rainf`, `Snowf`, and `ESoil`, and decide whether we want to keep all months, or if we just keep selected months from each variable.\n"
   ]
  },
  {
   "cell_type": "code",
   "execution_count": null,
   "metadata": {},
   "outputs": [],
   "source": [
    "utils.plot_corr_yield_current_climate(df_target_feature, \\\n",
    "                                      ['Rainf', 'Snowf', 'ESoil'], \\\n",
    "                                      climate_variable_dict)"
   ]
  },
  {
   "cell_type": "markdown",
   "metadata": {},
   "source": [
    "### Can we do some aggregation for Rainf, Snowf, and ESoil?\n",
    "\n",
    "- Keep JFMA_Rainf, MJJ_Rainf, JF_Snowf, and JJA_ESoil \n",
    "\n",
    "- JFMA_Rainf has a modest positive correlation with yield\n",
    "\n",
    "- MJJ_Rainf appear to correlate with yield in a nonlinear fashion \n",
    "\n",
    "- JF_Snowf & Yield: a weak positive correlation \n",
    "\n",
    "- JJA_ESoil & Yield: negatively correlated\n"
   ]
  },
  {
   "cell_type": "code",
   "execution_count": null,
   "metadata": {},
   "outputs": [],
   "source": [
    "df_target_feature['JFMA_Rainf'] = df_target_feature[['Rainf_Jan', 'Rainf_Feb', 'Rainf_Mar', 'Rainf_Apr']].mean(axis=1)\n",
    "df_target_feature['MJJ_Rainf']  = df_target_feature[['Rainf_May', 'Rainf_Jun', 'Rainf_Jul']].mean(axis=1)\n",
    "df_target_feature['JF_Snowf'] = df_target_feature[['Snowf_Jan', 'Snowf_Feb']].mean(axis=1)\n",
    "df_target_feature['JJA_ESoil'] = df_target_feature[['ESoil_Jun', 'ESoil_Jul', 'ESoil_Aug']].mean(axis=1)\n",
    "\n",
    "df_target_feature[['yield', 'JJA_SWdown', 'JJA_LWnet', 'JFMA_EF', 'JJA_EF', 'JFMA_Rainf', 'MJJ_Rainf', \\\n",
    "                   'JF_Snowf', 'JJA_ESoil']].corr()"
   ]
  },
  {
   "cell_type": "markdown",
   "metadata": {},
   "source": [
    "### Scatter plots between yield and each of the aggregated variables"
   ]
  },
  {
   "cell_type": "code",
   "execution_count": null,
   "metadata": {},
   "outputs": [],
   "source": [
    "plt.plot(df_target_feature['JFMA_Rainf'], df_target_feature['yield'], 'o', alpha = 0.5)\n",
    "plt.xlim(0,500)"
   ]
  },
  {
   "cell_type": "code",
   "execution_count": null,
   "metadata": {},
   "outputs": [],
   "source": [
    "plt.plot(df_target_feature['MJJ_Rainf'], df_target_feature['yield'], 'o', alpha = 0.5)\n",
    "plt.xlim(0,500)"
   ]
  },
  {
   "cell_type": "code",
   "execution_count": null,
   "metadata": {},
   "outputs": [],
   "source": [
    "plt.plot(df_target_feature['JF_Snowf'], df_target_feature['yield'], 'o', alpha = 0.5)\n"
   ]
  },
  {
   "cell_type": "code",
   "execution_count": null,
   "metadata": {},
   "outputs": [],
   "source": [
    "plt.plot(df_target_feature['JJA_ESoil'], df_target_feature['yield'], 'o', alpha = 0.5)"
   ]
  },
  {
   "cell_type": "markdown",
   "metadata": {},
   "source": [
    "<a id='section_5.2b_summary'></a>\n",
    "\n",
    "<div class=\"alert alert-block alert-success\">\n",
    "    \n",
    "### 5.2b Surface water flux / storage variables Summary (back to [the beginning of 5.2b](#section_5.2b))\n",
    "    \n",
    "<b>Discard all</b>\n",
    "\n",
    "   - 'Qsm': 'Snowmelt (kg m-2)'\n",
    "    \n",
    "   - 'SWE': 'Snow Water Equivalent (kg m-2)'\n",
    "\n",
    "   - 'SnowDepth': 'Snow depth (m)'\n",
    "\n",
    "   - 'SnowFrac': 'Snow cover (fraction)'\n",
    "\n",
    "   - 'SubSnow': 'Sublimation (evaporation from snow) (W m-2)'\n",
    "   \n",
    "   - 'Evap': 'Total evapotranspiration (kg m-2)'\n",
    "    \n",
    "   - 'PotEvap': 'Potential evapotranspiration (W m-2)'\n",
    "\n",
    "   - 'ECanop': 'Canopy water evaporation (W m-2)'\n",
    "\n",
    "   - 'TVeg': 'Transpiration (W m-2)'\n",
    "    \n",
    "   - 'CanopInt': 'Plant canopy surface water (kg m-2)'\n",
    "    \n",
    "   - 'Qs': 'Surface runoff (non-infiltrating) (kg m-2)'\n",
    "    \n",
    "   - 'Qsb': 'Subsurface runoff (baseflow) (kg m-2)'\n",
    "    \n",
    "   - 'Snowf': 'Frozen precipitation (snowfall) (kg m-2)'\n",
    "    \n",
    "   - 'ESoil': 'Direct evaporation from bare soil (W m-2)'\n",
    "   \n",
    "   - 'Rainf': 'Liquid precipitation (rainfall) (kg m-2)'\n",
    "       \n",
    "<b>Aggregated features to keep</b>\n",
    "    \n",
    "   - 'JFMA_Rainf', \n",
    "    \n",
    "   - 'MJJ_Rainf'\n",
    "    \n",
    "   - 'JF_Snowf'\n",
    "    \n",
    "   - 'JJA_ESoil'\n",
    "    \n",
    "</div>"
   ]
  },
  {
   "cell_type": "markdown",
   "metadata": {},
   "source": [
    "### Finalize feature selection \n",
    "\n",
    "   - #### `drop_hydrology` - columns to drop\n",
    "   - #### `keep_hydrology` - columns to keep"
   ]
  },
  {
   "cell_type": "code",
   "execution_count": null,
   "metadata": {},
   "outputs": [],
   "source": [
    "drop_hydrology = [col for col in df_target_feature.columns if col.startswith('Qsm_') or \\\n",
    "                                                              col.startswith('SWE_') or \\\n",
    "                                                              col.startswith('SnowDepth_') or \\\n",
    "                                                              col.startswith('SnowFrac_') or \\\n",
    "                                                              col.startswith('SubSnow_') or \\\n",
    "                                                              col.startswith('Evap_') or \\\n",
    "                                                              col.startswith('PotEvap_') or \\\n",
    "                                                              col.startswith('ECanop_') or \\\n",
    "                                                              col.startswith('TVeg_') or \\\n",
    "                                                              col.startswith('CanopInt_') or \\\n",
    "                                                              col.startswith('Qs_') or \\\n",
    "                                                              col.startswith('Qsb_') or \\\n",
    "                                                              col.startswith('Snowf_') or \\\n",
    "                                                              col.startswith('ESoil_') or \\\n",
    "                                                              col.startswith('Rainf_')]\n",
    "\n",
    "keep_hydrology = ['JFMA_Rainf', 'MJJ_Rainf', 'JF_Snowf', 'JJA_ESoil']\n",
    "\n",
    "df_target_feature.drop(drop_hydrology, axis=1, inplace=True)"
   ]
  },
  {
   "cell_type": "markdown",
   "metadata": {},
   "source": [
    "### Sanity check that `drop_hydrology` are gone and `keep_hydrology` remain"
   ]
  },
  {
   "cell_type": "code",
   "execution_count": null,
   "metadata": {},
   "outputs": [],
   "source": [
    "for col in drop_hydrology:\n",
    "    if col in df_target_feature.columns:\n",
    "        print(col +' should be removed, double check your procedure.')\n",
    "\n",
    "for col in keep_hydrology:\n",
    "    if not col in df_target_feature.columns:\n",
    "        print(col +' should be retained, double check your procedure.')"
   ]
  },
  {
   "cell_type": "markdown",
   "metadata": {},
   "source": [
    "### Update `drop_columns` and `keep_columns`"
   ]
  },
  {
   "cell_type": "code",
   "execution_count": null,
   "metadata": {},
   "outputs": [],
   "source": [
    "drop_columns.append(drop_hydrology)\n",
    "keep_columns.append(keep_hydrology)"
   ]
  },
  {
   "cell_type": "markdown",
   "metadata": {},
   "source": [
    "---\n",
    "<a id='section_5.2c'></a>\n",
    "<div class=\"alert alert-block alert-info\">\n",
    "\n",
    "### 5.2c Temperature related variables (jump to the [5.2c summary](#section_5.2c_summary))\n",
    "\n",
    "surface temperature\n",
    "- 'AvgSurfT': 'Average surface skin temperature (K)'\n",
    "- 'Albedo': 'Surface albedo (%)'\n",
    "\n",
    "soil temperature\n",
    "- 'SoilT_0_10cm': 'Soil temperature (0-10cm) (K)'\n",
    "- 'SoilT_10_40cm': 'Soil temperature (10-40cm) (K)'\n",
    "- 'SoilT_40_100cm': 'Soil temperature (40-100cm) (K)'\n",
    "- 'SoilT_100_200cm': 'Soil temperature (100-200cm) (K)'\n",
    "    \n",
    "</div>\n",
    "\n",
    "Back to [Table of contents](#section_0)"
   ]
  },
  {
   "cell_type": "markdown",
   "metadata": {},
   "source": [
    "### Check temperature feature redundancy\n",
    "\n",
    "`AvgSurfT` is highly correlated with the soil temperature across all levels. Safe to discard all soil temperature variables. "
   ]
  },
  {
   "cell_type": "code",
   "execution_count": null,
   "metadata": {},
   "outputs": [],
   "source": [
    "utils.plot_corr_climate(df_target_feature, \\\n",
    "                       ['AvgSurfT', 'SoilT_0_10cm'], \\\n",
    "                       ['AvgSurfT', 'SoilT_10_40cm'], \\\n",
    "                       ['AvgSurfT', 'SoilT_40_100cm'], \\\n",
    "                       ['AvgSurfT', 'SoilT_100_200cm'])"
   ]
  },
  {
   "cell_type": "markdown",
   "metadata": {},
   "source": [
    "### Check the redundancy between `AvgSurfT` and features that we decided to retain from 5.2a and 5.2b. Particularly, the connection between `AvgSurfT` and `SWdown`, `EF`, and `ESoil`\n",
    "\n",
    "`AvgSurfT` is highly correlated with `SWdown`, and it has considerable correlation with `EF` and `ESoil`, which makes sense. Therefore no need to keep `AvgSurfT` either. "
   ]
  },
  {
   "cell_type": "code",
   "execution_count": null,
   "metadata": {},
   "outputs": [],
   "source": [
    "utils.plot_corr_climate(data_filled, \\\n",
    "                       ['AvgSurfT', 'SWdown'], \\\n",
    "                       ['AvgSurfT', 'EF'], \\\n",
    "                       ['AvgSurfT', 'ESoil'])"
   ]
  },
  {
   "cell_type": "markdown",
   "metadata": {},
   "source": [
    "### What about `Albedo`?\n",
    "\n",
    "It suggests that `yield` has a constant negative correlation with `Albedo` throughout its planting, mid-season, and harvest season, suggesting a decrease in albedo is beneficial for soybean annual yield. There are many factors that could affect albedo and we do not dig deeper on that front. Previous studies show that albedo over soybean cropland increases during the soybean season, see [this paper](https://digitalcommons.unl.edu/cgi/viewcontent.cgi?article=1175&context=natrespapers), for example. Therefore, the negative correlation shown here might suggest potential causal linkage of albedo effects on soybean yield, rather just a simple reflection of the yield performance itself. "
   ]
  },
  {
   "cell_type": "code",
   "execution_count": null,
   "metadata": {},
   "outputs": [],
   "source": [
    "utils.plot_corr_yield_current_climate(df_target_feature, \\\n",
    "                                     ['Albedo'], \\\n",
    "                                     climate_variable_dict)"
   ]
  },
  {
   "cell_type": "markdown",
   "metadata": {},
   "source": [
    "### Aggregation of albedo\n",
    "\n",
    "Note that thought May to October Albedo show negative correlation with yield exceeding -0.5, the albedo is highly correlated across months, so we do some aggregation. "
   ]
  },
  {
   "cell_type": "code",
   "execution_count": null,
   "metadata": {},
   "outputs": [],
   "source": [
    "df_target_feature['MJJA_Albedo'] = df_target_feature[['Albedo_May', 'Albedo_Jun', \\\n",
    "                                                      'Albedo_Jul', 'Albedo_Aug']].mean(axis=1)\n",
    "\n",
    "df_target_feature[['yield', 'JJA_SWdown', 'JJA_LWnet', 'MJJA_Albedo']].corr()"
   ]
  },
  {
   "cell_type": "markdown",
   "metadata": {},
   "source": [
    "<a id='section_5.2c_summary'></a>\n",
    "\n",
    "<div class=\"alert alert-block alert-success\">\n",
    "\n",
    "### 5.2c Temperature related variables Summary (back to [the beginning of 5.2c](#section_5.2c))\n",
    "\n",
    "    \n",
    "<b>Discard all</b>\n",
    "\n",
    "   - 'AvgSurfT': 'Average surface skin temperature (K)'\n",
    "\n",
    "   - 'SoilT_0_10cm': 'Soil temperature (0-10cm) (K)'\n",
    "\n",
    "   - 'SoilT_10_40cm': 'Soil temperature (10-40cm) (K)'\n",
    "\n",
    "   - 'SoilT_40_100cm': 'Soil temperature (40-100cm) (K)'\n",
    "\n",
    "   - 'SoilT_100_200cm': 'Soil temperature (100-200cm) (K)'\n",
    "     \n",
    "   - 'Albedo': 'Surface albedo (%)'   \n",
    "\n",
    "<b>Aggregated features to keep</b>\n",
    "   \n",
    "   - 'MJJA_Albedo'\n",
    "    \n",
    "</div>\n",
    "\n"
   ]
  },
  {
   "cell_type": "markdown",
   "metadata": {},
   "source": [
    "### Finalize feature selection of the temperature related variables \n",
    "\n",
    "   - ####  `drop_temperature` - columns to drop\n",
    "   \n",
    "   - ####  `keep_temperature` - columns to keep\n",
    "   "
   ]
  },
  {
   "cell_type": "code",
   "execution_count": null,
   "metadata": {},
   "outputs": [],
   "source": [
    "drop_temperature = [col for col in df_target_feature.columns if col.startswith('AvgSurfT_') or \\\n",
    "                                                              col.startswith('SoilT_0_10cm_') or \\\n",
    "                                                              col.startswith('SoilT_10_40cm_') or \\\n",
    "                                                              col.startswith('SoilT_40_100cm') or \\\n",
    "                                                              col.startswith('SoilT_100_200cm_') or \\\n",
    "                                                              col.startswith('Albedo_')]\n",
    "\n",
    "\n",
    "keep_temperature = ['MJJA_Albedo']\n",
    "\n",
    "df_target_feature.drop(drop_temperature, axis=1, inplace=True)"
   ]
  },
  {
   "cell_type": "markdown",
   "metadata": {},
   "source": [
    "### Sanity check that `drop_temperature` are gone and `keep_temperature` remain"
   ]
  },
  {
   "cell_type": "code",
   "execution_count": null,
   "metadata": {},
   "outputs": [],
   "source": [
    "for col in drop_temperature:\n",
    "    if col in df_target_feature.columns:\n",
    "        print(col +' should be removed, double check your procedure.')\n",
    "\n",
    "for col in keep_temperature:\n",
    "    if not col in df_target_feature.columns:\n",
    "        print(col +' should be retained, double check your procedure.')"
   ]
  },
  {
   "cell_type": "markdown",
   "metadata": {},
   "source": [
    "### Update `drop_columns` and `keep_columns`"
   ]
  },
  {
   "cell_type": "code",
   "execution_count": null,
   "metadata": {},
   "outputs": [],
   "source": [
    "drop_columns.append(drop_temperature)\n",
    "keep_columns.append(keep_temperature)"
   ]
  },
  {
   "cell_type": "markdown",
   "metadata": {},
   "source": [
    "---\n",
    "<a id='section_5.2d'></a>\n",
    "<div class=\"alert alert-block alert-info\">\n",
    "    \n",
    "### 5.2d Soil moisture related (jump to the [5.2d summary](#section_5.2d_summary))\n",
    "\n",
    "- 'SoilM_0_10cm': 'Soil moisture content (0-10cm) (kg m-2)'\n",
    "- 'SoilM_10_40cm': 'Soil moisture content (10-40cm) (kg m-2)'\n",
    "- 'SoilM_40_100cm': 'Soil moisture content (40-100cm) (kg m-2)'\n",
    "- 'SoilM_100_200cm': 'Soil moisture content (100-200cm) (kg m-2)'\n",
    "- 'SoilM_0_100cm': 'Soil moisture content (0-100cm) (kg m-2)'\n",
    "- 'SoilM_0_200cm': 'Soil moisture content (0-200cm) (kg m-2)'\n",
    "- 'RootMoist': 'Root zone soil moisture (kg m-2)'\n",
    "  \n",
    "The following variables overlap with above soil moisture variables, so we directly drop these columns.\n",
    "- 'SMLiq_0_10cm': 'Liquid soil moisture content (0-10cm) (kg m-2)'\n",
    "- 'SMLiq_10_40cm': 'Liquid soil moisture content (10-40cm) (kg m-2)'\n",
    "- 'SMLiq_40_100cm': 'Liquid soil moisture content (40-100cm) (kg m-2)'\n",
    "- 'SMLiq_100_200cm': 'Liquid soil moisture content (100-200cm) (kg m-2)'\n",
    "- 'SMAvail_0_100cm': 'Soil moisture availability (0-100cm) (%)'\n",
    "- 'SMAvail_0_200cm': 'Soil moisture availability (0-200cm) (%)'\n",
    "    \n",
    "</div>\n",
    "\n",
    "Back to [Table of contents](#section_0)"
   ]
  },
  {
   "cell_type": "markdown",
   "metadata": {},
   "source": [
    "### Check the feature redundancy\n",
    "\n",
    "`SoilM_0_10cm` strongly correlates with soil moisture from deeper levels, so there is no need to keep them all. Let's keep `SoilM_0_10cm` for now and discard soil moisture from deep levels. \n",
    "\n",
    "`SoilM_0_10cm` is also correlated with `RootMoist`, but the correlation magnitude is somewhat modest, so we keep them both for now. "
   ]
  },
  {
   "cell_type": "code",
   "execution_count": null,
   "metadata": {},
   "outputs": [],
   "source": [
    "utils.plot_corr_climate(df_target_feature, \\\n",
    "                       ['SoilM_0_10cm', 'SoilM_10_40cm'], \\\n",
    "                       ['SoilM_0_10cm', 'SoilM_40_100cm'], \\\n",
    "                       ['SoilM_0_10cm', 'SoilM_100_200cm'], \\\n",
    "                       ['SoilM_0_10cm', 'SoilM_0_100cm'], \\\n",
    "                       ['SoilM_0_10cm', 'SoilM_0_200cm'], \\\n",
    "                       ['SoilM_0_10cm', 'RootMoist'])"
   ]
  },
  {
   "cell_type": "markdown",
   "metadata": {},
   "source": [
    "### Check the redundancy between `SoilM_0_10cm` and `SWdown`, `EF`, and `Rainf`\n",
    "\n",
    "`No concerning strong correlation, so it's okay to keep SoilM_0_10cm`"
   ]
  },
  {
   "cell_type": "code",
   "execution_count": null,
   "metadata": {},
   "outputs": [],
   "source": [
    "utils.plot_corr_climate(data_filled,\\\n",
    "                       ['SoilM_0_10cm', 'SWdown'], \\\n",
    "                       ['SoilM_0_10cm', 'EF'], \\\n",
    "                       ['SoilM_0_10cm', 'Rainf'])"
   ]
  },
  {
   "cell_type": "code",
   "execution_count": null,
   "metadata": {},
   "outputs": [],
   "source": [
    "utils.plot_corr_yield_current_climate(df_target_feature, \\\n",
    "                                     ['SoilM_0_10cm', 'RootMoist'], \\\n",
    "                                     climate_variable_dict)"
   ]
  },
  {
   "cell_type": "code",
   "execution_count": null,
   "metadata": {},
   "outputs": [],
   "source": [
    "utils.plot_corr_climate(data_filled, \\\n",
    "                       ['ESoil', 'RootMoist'], \\\n",
    "                       ['ESoil', 'AvgSurfT'], \\\n",
    "                       ['ESoil', 'Albedo'], \\\n",
    "                       ['RootMoist', 'AvgSurfT'], \\\n",
    "                       ['AvgSurfT', 'Albedo'], \\\n",
    "                       ['SWdown', 'AvgSurfT'])"
   ]
  },
  {
   "cell_type": "markdown",
   "metadata": {},
   "source": [
    "### The above correlation heatmaps suggest a very constant positive correlation between `yield` and `SoilM_0_10cm`, and between `yield` and `RootMoist`. \n",
    "\n",
    "How does the seasonal cycle of the `SoilM_0_10cm` and `RootMoist` look like? Do we need to keep all months? \n",
    "\n",
    "As a rough exploration, we visualize the scatter plot between `yield` and `SoilM_0_10cm` in three different months, and similarly we plot the scatter between `yield` and `RootMoist`. We also show the distribution of `SoilM_0_10cm` and `RootMoist`. \n",
    "\n",
    "It seems that `RootMoist` possess constant behavior across different months, suggesting a weak seasonal cycle of this variable. And the variaiton most comes from spatial variation in `RootMoist`. In contrast, `SoilM_0_10cm` still has seasonal variation in terms of both its scatter plot with yield and its own distribution in different months. \n",
    "\n",
    "So for now we keep `SoilM_0_10cm` across all months, and create an aggregated variable of `RootMoist`"
   ]
  },
  {
   "cell_type": "markdown",
   "metadata": {},
   "source": [
    "### Aggregation of SoilM_0_10cm and RootMoist\n",
    "\n",
    "Both variables are highly correlated across months, so we don't want to include all months. \n",
    "\n",
    "Let's keep MJJA_SoilM_0_10cm and JFMA_RootMoist"
   ]
  },
  {
   "cell_type": "code",
   "execution_count": null,
   "metadata": {},
   "outputs": [],
   "source": [
    "df_target_feature['JFMA_SoilM_0_10cm'] = df_target_feature[['SoilM_0_10cm_Jan', 'SoilM_0_10cm_Feb', \\\n",
    "                                                           'SoilM_0_10cm_Mar', 'SoilM_0_10cm_Apr']].mean(axis=1)\n",
    "\n",
    "df_target_feature['MJJA_SoilM_0_10cm'] = df_target_feature[['SoilM_0_10cm_May', 'SoilM_0_10cm_Jun', \\\n",
    "                                                           'SoilM_0_10cm_Jul', 'SoilM_0_10cm_Aug']].mean(axis=1)\n",
    "\n",
    "df_target_feature['JFMA_RootMoist'] = df_target_feature[['RootMoist_Jan', 'RootMoist_Feb', \\\n",
    "                                                         'RootMoist_Mar', 'RootMoist_Apr']].mean(axis=1)\n",
    "\n",
    "df_target_feature['MJJA_RootMoist'] = df_target_feature[['RootMoist_May', 'RootMoist_Jun', \\\n",
    "                                                        'RootMoist_Jul', 'RootMoist_Aug']].mean(axis=1)\n",
    "\n",
    "df_target_feature[['yield', 'JFMA_SoilM_0_10cm', 'MJJA_SoilM_0_10cm', 'JFMA_RootMoist', 'MJJA_RootMoist']].corr()"
   ]
  },
  {
   "cell_type": "markdown",
   "metadata": {},
   "source": [
    "`Figure: Scatter between yield and SoilM_0_10cm`"
   ]
  },
  {
   "cell_type": "code",
   "execution_count": null,
   "metadata": {},
   "outputs": [],
   "source": [
    "plt.plot(df_target_feature['SoilM_0_10cm_Jan'], df_target_feature['yield'], 'o', markersize = 3, alpha = 0.1)\n",
    "plt.plot(df_target_feature['SoilM_0_10cm_Apr'], df_target_feature['yield'], 'o', markersize = 3, alpha = 0.1)\n",
    "plt.plot(df_target_feature['SoilM_0_10cm_Oct'], df_target_feature['yield'], 'o', markersize = 3, alpha = 0.1)\n",
    "plt.xlabel('SoilM_0_10cm')\n",
    "plt.ylabel('yield')\n",
    "plt.title('Jan, Apr, Oct')"
   ]
  },
  {
   "cell_type": "markdown",
   "metadata": {},
   "source": [
    "`Figure: Scatter between yield and RootMoist`"
   ]
  },
  {
   "cell_type": "code",
   "execution_count": null,
   "metadata": {},
   "outputs": [],
   "source": [
    "plt.plot(df_target_feature['RootMoist_Jan'], df_target_feature['yield'], 'o', markersize = 3, alpha = 0.05)\n",
    "plt.plot(df_target_feature['RootMoist_Apr'], df_target_feature['yield'], 'o', markersize = 3, alpha = 0.05)\n",
    "plt.plot(df_target_feature['RootMoist_Oct'], df_target_feature['yield'], 'o', markersize = 3, alpha = 0.05)\n",
    "plt.xlabel('RootMoist')\n",
    "plt.ylabel('yield')\n",
    "plt.title('Jan, Apr, Oct')"
   ]
  },
  {
   "cell_type": "markdown",
   "metadata": {},
   "source": [
    "`Figure: distribution of SoilM_0_10cm`"
   ]
  },
  {
   "cell_type": "code",
   "execution_count": null,
   "metadata": {},
   "outputs": [],
   "source": [
    "ax = sns.distplot(df_target_feature['SoilM_0_10cm_Jan'], bins = 100)\n",
    "ax = sns.distplot(df_target_feature['SoilM_0_10cm_Apr'], bins = 100)\n",
    "ax = sns.distplot(df_target_feature['SoilM_0_10cm_Oct'], bins = 100)\n",
    "ax.set_xlabel('SoilM_0_10cm')\n",
    "ax.set_ylabel('Density')\n",
    "ax.set_title('Jan, Apr, Oct')"
   ]
  },
  {
   "cell_type": "markdown",
   "metadata": {},
   "source": [
    "`Figure: distribution of RootMoist`"
   ]
  },
  {
   "cell_type": "code",
   "execution_count": null,
   "metadata": {},
   "outputs": [],
   "source": [
    "ax = sns.distplot(df_target_feature['RootMoist_Jan'], bins = 100)\n",
    "ax = sns.distplot(df_target_feature['RootMoist_Apr'], bins = 100)\n",
    "ax = sns.distplot(df_target_feature['RootMoist_Oct'], bins = 100)\n",
    "ax.set_xlabel('RootMoist')\n",
    "ax.set_ylabel('Density')\n",
    "ax.set_title('Jan, Apr, Oct')"
   ]
  },
  {
   "cell_type": "markdown",
   "metadata": {},
   "source": [
    "---\n",
    "\n",
    "<a id='section_5.2d_summary'></a>\n",
    "\n",
    "<div class=\"alert alert-block alert-success\">\n",
    "\n",
    "### 5.2d Soil moisture related Summary (back to [the beginning of 5.2d](#section_5.2d))\n",
    "    \n",
    "<b>Discard all</b>\n",
    "\n",
    "   - 'SoilM_10_40cm': 'Soil moisture content (10-40cm) (kg m-2)'\n",
    "\n",
    "   - 'SoilM_40_100cm': 'Soil moisture content (40-100cm) (kg m-2)'\n",
    "\n",
    "   - 'SoilM_100_200cm': 'Soil moisture content (100-200cm) (kg m-2)'\n",
    "\n",
    "   - 'SoilM_0_100cm': 'Soil moisture content (0-100cm) (kg m-2)'\n",
    "\n",
    "   - 'SoilM_0_200cm': 'Soil moisture content (0-200cm) (kg m-2)'\n",
    "    \n",
    "   - 'SMLiq_0_10cm': 'Liquid soil moisture content (0-10cm) (kg m-2)'\n",
    "\n",
    "   - 'SMLiq_10_40cm': 'Liquid soil moisture content (10-40cm) (kg m-2)'\n",
    "\n",
    "   - 'SMLiq_40_100cm': 'Liquid soil moisture content (40-100cm) (kg m-2)'\n",
    "\n",
    "   - 'SMLiq_100_200cm': 'Liquid soil moisture content (100-200cm) (kg m-2)'\n",
    "\n",
    "   - 'SMAvail_0_100cm': 'Soil moisture availability (0-100cm) (%)'\n",
    "\n",
    "   - 'SMAvail_0_200cm': 'Soil moisture availability (0-200cm) (%)'\n",
    "    \n",
    "   - 'SoilM_0_10cm': 'Soil moisture content (0-10cm) (kg m-2)'\n",
    "    \n",
    "   - 'RootMoist': 'Root zone soil moisture (kg m-2)'\n",
    "\n",
    "\n",
    "<b>Aggregated features to discard</b>\n",
    "\n",
    "   - 'JFMA_SoilM_0_10cm'\n",
    "    \n",
    "   - 'MJJA_RootMoist'\n",
    "\n",
    "<b>Aggregated features to keep</b>\n",
    "   \n",
    "   - 'MJJA_SoilM_0_10cm'\n",
    "    \n",
    "   - 'JFMA_RootMoist'\n",
    "    \n",
    "</div>\n",
    "\n"
   ]
  },
  {
   "cell_type": "markdown",
   "metadata": {},
   "source": [
    "### Feature selection of 5.2d\n",
    "\n",
    "   - #### `drop_moisture` - columns to drop\n",
    "    \n",
    "   - #### `keep_moisture` - columns to keep"
   ]
  },
  {
   "cell_type": "code",
   "execution_count": null,
   "metadata": {},
   "outputs": [],
   "source": [
    "drop_moisture = [col for col in df_target_feature.columns if col.startswith('SoilM_10_40cm_') or \\\n",
    "                                                                col.startswith('SoilM_40_100cm_') or \\\n",
    "                                                                col.startswith('SoilM_100_200cm_') or \\\n",
    "                                                                col.startswith('SoilM_0_100cm_') or \\\n",
    "                                                                col.startswith('SoilM_0_200cm_') or \\\n",
    "                                                                col.startswith('SMLiq_0_10cm_') or \\\n",
    "                                                                col.startswith('SMLiq_10_40cm_') or \\\n",
    "                                                                col.startswith('SMLiq_40_100cm_') or \\\n",
    "                                                                col.startswith('SMLiq_100_200cm_') or \\\n",
    "                                                                col.startswith('SMAvail_0_100cm_') or \\\n",
    "                                                                col.startswith('SMAvail_0_200cm_') or \\\n",
    "                                                                col.startswith('SoilM_0_10cm_') or \\\n",
    "                                                                col.startswith('RootMoist_')] \\\n",
    "                + ['JFMA_SoilM_0_10cm', 'MJJA_RootMoist']\n",
    "\n",
    "keep_moisture = ['MJJA_SoilM_0_10cm', 'JFMA_RootMoist']\n",
    "\n",
    "df_target_feature.drop(drop_moisture, axis=1, inplace=True)"
   ]
  },
  {
   "cell_type": "markdown",
   "metadata": {},
   "source": [
    "### Sanity check that `drop_moisture` are gone and `keep_moisture` remain"
   ]
  },
  {
   "cell_type": "code",
   "execution_count": null,
   "metadata": {},
   "outputs": [],
   "source": [
    "for col in drop_moisture:\n",
    "    if col in df_target_feature.columns:\n",
    "        print(col +' should be removed, double check your procedure.')\n",
    "\n",
    "for col in keep_moisture:\n",
    "    if not col in df_target_feature.columns:\n",
    "        print(col +' should be retained, double check your procedure.')"
   ]
  },
  {
   "cell_type": "markdown",
   "metadata": {},
   "source": [
    "### Update `drop_columns` and `keep_columns`"
   ]
  },
  {
   "cell_type": "code",
   "execution_count": null,
   "metadata": {},
   "outputs": [],
   "source": [
    "drop_columns.append(drop_moisture)\n",
    "keep_columns.append(keep_moisture)"
   ]
  },
  {
   "cell_type": "markdown",
   "metadata": {},
   "source": [
    "---\n",
    "<a id='section_5.2e'></a>\n",
    "\n",
    "<div class=\"alert alert-block alert-info\">\n",
    "    \n",
    "### 5.2e Vegetation and land surface parameters (jump to [5.2e summary](#section_5.2e_summary))\n",
    "\n",
    "- 'LAI': 'Leaf Area Index (unitless)'\n",
    "- 'GVEG': 'Green vegetation (fraction)'\n",
    "\n",
    "- 'ACond': 'Aerodynamic conductance (m s-1)'\n",
    "- 'CCond': 'Canopy conductance (m s-1)'\n",
    "\n",
    "- 'RCS': 'Solar parameter in canopy conductance (fraction)'\n",
    "- 'RCT': 'Temperature parameter in canopy conductance (fraction)'\n",
    "- 'RCQ': 'Humidity parameter in canopy conductance (fraction)'\n",
    "- 'RCSOL': 'Soil moisture parameter in canopy conductance (fraction)'\n",
    "- 'RSmin': 'Minimal stomatal resistance (s m-1)'\n",
    "- 'RSMacr': 'Relative soil moist. availability control factor (0-1)'\n",
    "    \n",
    "</div>\n",
    "\n",
    "Back to [Table of contents](#section_0)"
   ]
  },
  {
   "cell_type": "markdown",
   "metadata": {},
   "source": [
    "### We directly skip a bunch of canopy conductance related parameters, including `RCS`, `RCT`, `RCQ`, `RCSOL`, `RSmin`. Since we've retained soil moisture related variables in previous section, it's safe to drop `RSMacr` as well.\n",
    "\n",
    "### Check the redundancy between `LAI`, `GVEG`, `ACond`, and `CCond`\n",
    "\n",
    "(1) `LAI` & `GVEG`\n",
    "\n",
    "`LAI` and `GVEG` are strongly correlated with each other, so we just consider `LAI` as a potential predictor. Note that `LAI` itself also has strong lead-lag autocorrelation across months, so we won't include each month and will do some aggregation to represent `LAI`. Given that we expect `LAI` to reflect the soybean planting and growth performance, it is reasonable to only consider the possible effects of `LAI` before the planting season. \n",
    "\n",
    "Therefore, we will discard `GVEG` and only keep an aggregated `LAI` by averaging from current January to April. \n",
    "\n",
    "(2) `LAI` & `ACond`\n",
    "\n",
    "`ACond` is affected by both wind speed and canopy height, so we see a strong correlation between `LAI` and `ACond`. Since we will keep the spring `LAI`, we won't keep `ACond` to avoid redundancy. Given that the `ACond` can be affected by wind speed as well, it could be helpful to include that information during the planting throughout the harvest season. So we will keep an aggregated `ACond` by averaging from current May to October. \n",
    "\n",
    "(3) `CCond`\n",
    "\n",
    "`CCond` has modest correlation with `LAI` and `ACond`, the negative correlation during the planting and growing season is interesting. I don't understand what might have caused the negative correlation. Let's keep `CCond` for now, and we will decide whether to keep selected months or do some aggregations after we check its correlation with yield. "
   ]
  },
  {
   "cell_type": "code",
   "execution_count": null,
   "metadata": {},
   "outputs": [],
   "source": [
    "utils.plot_corr_climate(df_target_feature, \\\n",
    "                       ['LAI', 'GVEG'], ['LAI', 'CCond'], ['LAI', 'ACond'], ['ACond', 'CCond'])"
   ]
  },
  {
   "cell_type": "markdown",
   "metadata": {},
   "source": [
    "### Check the correlation with yield\n",
    "\n",
    "(1) Aggregate `LAI` and `ACond`\n",
    "\n",
    "Both `LAI` and `ACond` strongly correlates with yield, which is expected especially for `LAI`. Also, both `LAI` and `ACond` are strongly autocorrelated. We will keep `LAI` averaged from Jan to April and `ACond` averaged from May to October. \n",
    "\n",
    "(2) Discard `CCond`\n",
    "\n",
    "Correlation between `CCond` and `yield` is pretty weak, and we don't see a discernable nonlinear relationship between `CCond` and `yield`. Further, as a parameter that affects the water flux between land and atmosphere, `CCond`'s effects may have been partly included in other retained features, such as evaporative fraction or soil moisture. It's safe to discard `CCond`. "
   ]
  },
  {
   "cell_type": "code",
   "execution_count": null,
   "metadata": {},
   "outputs": [],
   "source": [
    "utils.plot_corr_yield_current_climate(df_target_feature, \\\n",
    "                                     ['LAI', 'ACond', 'CCond'], \\\n",
    "                                     climate_variable_dict)"
   ]
  },
  {
   "cell_type": "code",
   "execution_count": null,
   "metadata": {},
   "outputs": [],
   "source": [
    "plt.plot(df_target_feature['ACond_Apr'], df_target_feature['yield'], 'o')\n",
    "plt.ylim(0,6)"
   ]
  },
  {
   "cell_type": "markdown",
   "metadata": {},
   "source": [
    "---\n",
    "<a id='section_5.2e_summary'></a>\n",
    "\n",
    "<div class=\"alert alert-block alert-success\">\n",
    "\n",
    "### 5.2e Vegetation and land surface parameters summary (back to [the beginning of 5.2e](#section_5.2e))\n",
    "\n",
    "#### Discard all\n",
    "- 'LAI': 'Leaf Area Index (unitless)'\n",
    "- 'GVEG': 'Green vegetation (fraction)'\n",
    "- 'ACond': 'Aerodynamic conductance (m s-1)'\n",
    "- 'CCond': 'Canopy conductance (m s-1)'\n",
    "- 'RCS': 'Solar parameter in canopy conductance (fraction)'\n",
    "- 'RCT': 'Temperature parameter in canopy conductance (fraction)'\n",
    "- 'RCQ': 'Humidity parameter in canopy conductance (fraction)'\n",
    "- 'RCSOL': 'Soil moisture parameter in canopy conductance (fraction)'\n",
    "- 'RSmin': 'Minimal stomatal resistance (s m-1)'\n",
    "- 'RSMacr': 'Relative soil moist. availability control factor (0-1)'\n",
    "\n",
    "#### Aggregated \n",
    "    \n",
    "- 'JanToApr_LAI'\n",
    "\n",
    "- 'MayToOct_ACond'\n",
    "\n",
    "    \n",
    "</div>"
   ]
  },
  {
   "cell_type": "markdown",
   "metadata": {},
   "source": [
    "### Feature engineering the `LAI` and `ACond` aggregation"
   ]
  },
  {
   "cell_type": "code",
   "execution_count": null,
   "metadata": {},
   "outputs": [],
   "source": [
    "LAI_cols   = ['LAI_Jan', 'LAI_Feb', 'LAI_Mar', 'LAI_Apr']\n",
    "ACond_cols = ['ACond_May', 'ACond_Jun', 'ACond_Jul', 'ACond_Aug', 'ACond_Sep', 'ACond_Oct']\n",
    "\n",
    "df_target_feature['JanToApr_LAI']   = df_target_feature[LAI_cols].mean(axis=1)\n",
    "df_target_feature['MayToOct_ACond'] = df_target_feature[ACond_cols].mean(axis=1)"
   ]
  },
  {
   "cell_type": "markdown",
   "metadata": {},
   "source": [
    "### Check the correlation between yield and the aggregated variables "
   ]
  },
  {
   "cell_type": "code",
   "execution_count": null,
   "metadata": {},
   "outputs": [],
   "source": [
    "df_target_feature[['yield', 'JanToApr_LAI', 'MayToOct_ACond']].corr()"
   ]
  },
  {
   "cell_type": "markdown",
   "metadata": {},
   "source": [
    "### Finalize the feature selection of 5.2e\n",
    "\n",
    "   - #### `drop_land` - columns to drop\n",
    "   \n",
    "   - #### `keep_land` - columns to keep "
   ]
  },
  {
   "cell_type": "code",
   "execution_count": null,
   "metadata": {},
   "outputs": [],
   "source": [
    "drop_land = [col for col in df_target_feature.columns if col.startswith('GVEG_') or \\\n",
    "                                                         col.startswith('LAI_') or \\\n",
    "                                                         col.startswith('ACond_') or \\\n",
    "                                                         col.startswith('CCond_') or \\\n",
    "                                                         col.startswith('RCS_') or \\\n",
    "                                                         col.startswith('RCT_') or \\\n",
    "                                                         col.startswith('RCQ_') or \\\n",
    "                                                         col.startswith('RCSOL_') or \\\n",
    "                                                         col.startswith('RSmin_') or \\\n",
    "                                                         col.startswith('RSMacr_')]\n",
    "keep_land = ['JanToApr_LAI', 'MayToOct_ACond']\n",
    "\n",
    "df_target_feature.drop(drop_land, axis = 1, inplace=True)"
   ]
  },
  {
   "cell_type": "markdown",
   "metadata": {},
   "source": [
    "### Sanity check that `drop_land` is gone and `keep_land` remain"
   ]
  },
  {
   "cell_type": "code",
   "execution_count": null,
   "metadata": {},
   "outputs": [],
   "source": [
    "for col in drop_land:\n",
    "    if col in df_target_feature.columns:\n",
    "        print(col +' should be removed, double check your procedure.')\n",
    "\n",
    "for col in keep_land:\n",
    "    if not col in df_target_feature.columns:\n",
    "        print(col +' should be retained, double check your procedure.')"
   ]
  },
  {
   "cell_type": "markdown",
   "metadata": {},
   "source": [
    "### Update `drop_columns` and `keep_columns`"
   ]
  },
  {
   "cell_type": "code",
   "execution_count": null,
   "metadata": {},
   "outputs": [],
   "source": [
    "drop_columns.append(drop_land)\n",
    "keep_columns.append(keep_land)"
   ]
  },
  {
   "cell_type": "markdown",
   "metadata": {},
   "source": [
    "---\n",
    "<a id='section_5.3'></a>\n",
    "\n",
    "## 5.3 Exploring the correlation between yield and previous year's climate\n",
    "\n",
    "Back to [Table of contents](#section_0)\n",
    "\n",
    "### Thought process\n",
    "\n",
    "We will search through a few climate variables from previous year's climate that may affect current year's yield based on our domain knowledge. Since land has a longer memory compared to atmosphere, here we focus on possible impacts of previous rain/snow/soil moisture conditions. \n",
    "\n",
    "Particularly, we explore following variables\n",
    "\n",
    "- Snowf, SnowDepth, SnowFrac and Rainf from previous winter (Nov and Dec)\n",
    "\n",
    "- SoilM_0_10cm and RootMoist from previous year \n",
    "\n",
    "- Accumulated Rainf from the past year\n",
    "\n",
    "### Approach \n",
    "\n",
    "Consider Yield (lat, lon, year) with year from 1981 to 2016. \n",
    "\n",
    "For each year, obtain the lat/lon corresponding varialbe from the previous year. If the value is missing from the previous year, fill the NaN with the interpolation method. \n"
   ]
  },
  {
   "cell_type": "markdown",
   "metadata": {},
   "source": [
    "#### Create `current_yield` to store yield data and their lat, lon, time dimension"
   ]
  },
  {
   "cell_type": "code",
   "execution_count": null,
   "metadata": {},
   "outputs": [],
   "source": [
    "current_yield= df_target_feature[['lat', 'lon', 'year', 'yield']].reset_index(drop=True)\n",
    "current_yield.head()"
   ]
  },
  {
   "cell_type": "markdown",
   "metadata": {},
   "source": [
    "#### Obtain climate variables with one year lead  \n",
    "\n",
    "Here, we will use the defined function `fetch_NLDAS` to obtain `Rainf` from 1980 to 2015, then create a column in `current_yield_lead_climate` to make sure each grid point of yield data in 1981 to 2016 has a matched climate condition from last year. "
   ]
  },
  {
   "cell_type": "code",
   "execution_count": null,
   "metadata": {},
   "outputs": [],
   "source": [
    "print(inspect.getdoc(utils.fetch_NLDAS))"
   ]
  },
  {
   "cell_type": "markdown",
   "metadata": {},
   "source": [
    "#### `lead_NLDAS` stores all NLDAS monthly climate variables from 1980 to 2015. Note that this dataframe would still contain NaN values. "
   ]
  },
  {
   "cell_type": "code",
   "execution_count": null,
   "metadata": {},
   "outputs": [],
   "source": [
    "# parameters needed for fetch_NLDAS\n",
    "month_number = ['01', '02', '03', '04', '05', '06', '07', '08', '09', '10', '11', '12']\n",
    "month_suffix = ['_Jan', '_Feb', '_Mar', '_Apr', '_May', '_Jun', \\\n",
    "                '_Jul', '_Aug', '_Sep', '_Oct', '_Nov', '_Dec']\n",
    "\n",
    "lead_NLDAS   = utils.fetch_NLDAS(path_climate, 1980, 2015, month_number, month_suffix)"
   ]
  },
  {
   "cell_type": "code",
   "execution_count": null,
   "metadata": {
    "scrolled": true
   },
   "outputs": [],
   "source": [
    "lead_NLDAS.head()"
   ]
  },
  {
   "cell_type": "code",
   "execution_count": null,
   "metadata": {},
   "outputs": [],
   "source": [
    "lead_NLDAS['year'] = lead_NLDAS['year'].astype(int)"
   ]
  },
  {
   "cell_type": "markdown",
   "metadata": {},
   "source": [
    "#### Create a new column `Total_Rainf` in lead_NLDAS for annually accumulated Rainf\n",
    "\n",
    "<div class=\"alert alert-block alert-danger\">\n",
    "Note that to make sure the sum of NaN also yield NaN (instead of zero), should set min_count = 1 when do the sum. \n",
    "See discussion https://stackoverflow.com/questions/33448003/sum-across-all-nans-in-pandas-returns-zero\n",
    "</div>"
   ]
  },
  {
   "cell_type": "code",
   "execution_count": null,
   "metadata": {},
   "outputs": [],
   "source": [
    "Rainf_cols = [sub.replace('_', 'Rainf_') for sub in month_suffix]\n",
    "lead_NLDAS['AnnualTotal_Rainf'] = lead_NLDAS[Rainf_cols].sum(axis=1, min_count=1)\n",
    "lead_NLDAS['SepToDecTotal_Rainf'] = lead_NLDAS[['Rainf_Sep', 'Rainf_Oct', \\\n",
    "                                                'Rainf_Nov', 'Rainf_Dec']].sum(axis=1, min_count=1)"
   ]
  },
  {
   "cell_type": "code",
   "execution_count": null,
   "metadata": {},
   "outputs": [],
   "source": [
    "lead_NLDAS['NovDecTotal_Snowf']     = lead_NLDAS[['Snowf_Nov', 'Snowf_Dec']].sum(axis=1, min_count=1)\n",
    "\n",
    "lead_NLDAS['NovDecTotal_SnowDepth'] = lead_NLDAS[['SnowDepth_Nov', 'SnowDepth_Dec']].sum(axis = 1, min_count = 1)\n",
    "\n",
    "RootMoist_cols = [sub.replace('_', 'RootMoist_') for sub in month_suffix]\n",
    "\n",
    "lead_NLDAS['AnnualMean_RootMoist'] = lead_NLDAS[RootMoist_cols].sum(axis = 1, min_count = 1)\n",
    "\n",
    "lead_NLDAS['NovDecMean_RootMoist'] = lead_NLDAS[['RootMoist_Nov', 'RootMoist_Dec']].sum(axis = 1, min_count = 1)"
   ]
  },
  {
   "cell_type": "markdown",
   "metadata": {},
   "source": [
    "#### Create a new column `Total_Rainf` in `current_yield_lead_climate` to make sure everything matches"
   ]
  },
  {
   "cell_type": "code",
   "execution_count": null,
   "metadata": {},
   "outputs": [],
   "source": [
    "current_yield_lead_climate = []\n",
    "\n",
    "lead_climate_list = ['AnnualTotal_Rainf', \\\n",
    "                     'SepToDecTotal_Rainf',\\\n",
    "                     'NovDecTotal_Snowf', \\\n",
    "                     'NovDecTotal_SnowDepth', \\\n",
    "                     'NovDecMean_RootMoist', \\\n",
    "                     'AnnualMean_RootMoist']\n",
    "\n",
    "for year in range(1981, 2017):\n",
    "    \n",
    "    # ---- Read in the current year's yield data\n",
    "    yield_this_year = current_yield[current_yield['year']== year].reset_index(drop=True)\n",
    "    \n",
    "    # ---- Obtain the total counts of records from this year\n",
    "    yield_this_year_counts = len(yield_this_year)\n",
    "    \n",
    "    for lead in lead_climate_list:\n",
    "        # ---- Create a new column in current_yield_lead_climate to store the lead climate variable\n",
    "        yield_this_year['Lead_' + lead] = ''\n",
    "\n",
    "        # ---- Loop through the grids\n",
    "        for grid in range(0, yield_this_year_counts):\n",
    "            lat = yield_this_year['lat'][grid]\n",
    "            lon = yield_this_year['lon'][grid]\n",
    "            \n",
    "            lead_var    = lead_NLDAS[lead_NLDAS['year'] == (year - 1)][['lat', 'lon', lead]]\n",
    "            lead_grid   = (lead_var['lat'] == lat) & (lead_var['lon'] == lon)\n",
    "            lead_series = lead_var[lead_grid].reset_index(drop=True)\n",
    "    \n",
    "            # ---- If the corresponding location from the previous year has missing value, \n",
    "            # ---- set empty to the new column\n",
    "            if lead_series.empty:\n",
    "                yield_this_year['Lead_' + lead][grid] = ''\n",
    "            else:\n",
    "                yield_this_year['Lead_' + lead][grid] = lead_series[lead][0]    \n",
    "            \n",
    "            # ---- Deal with the missing value\n",
    "            if yield_this_year['Lead_' + lead].isnull().values.any():\n",
    "                yield_this_year['Lead_' + lead].interpolate(method='linear', direction = 'forward', inplace=True)\n",
    "    \n",
    "    current_yield_lead_climate.append(yield_this_year)\n",
    "    \n",
    "    print('Year '+str(year)+' done ...')\n",
    "    \n",
    "df_current_yield_lead_climate = pd.concat(current_yield_lead_climate)"
   ]
  },
  {
   "cell_type": "markdown",
   "metadata": {},
   "source": [
    "### Reset the index and double check datatypes\n",
    "\n",
    "<div class=\"alert alert-block alert-danger\">\n",
    "Make sure that the numeric data columns are in type float. This is especially important if you want to fill the missing values. If the datatype is object, the interpolation method won't work.\n",
    "</div>"
   ]
  },
  {
   "cell_type": "code",
   "execution_count": null,
   "metadata": {},
   "outputs": [],
   "source": [
    "df_current_yield_lead_climate.reset_index(drop=True, inplace=True)\n",
    "df_current_yield_lead_climate.dtypes"
   ]
  },
  {
   "cell_type": "markdown",
   "metadata": {},
   "source": [
    "### Conver the columns from object to float"
   ]
  },
  {
   "cell_type": "code",
   "execution_count": null,
   "metadata": {},
   "outputs": [],
   "source": [
    "for lead in lead_climate_list:\n",
    "    df_current_yield_lead_climate['Lead_'+lead] = df_current_yield_lead_climate['Lead_'+lead].astype(float)"
   ]
  },
  {
   "cell_type": "markdown",
   "metadata": {},
   "source": [
    "### Deal with NaN"
   ]
  },
  {
   "cell_type": "code",
   "execution_count": null,
   "metadata": {},
   "outputs": [],
   "source": [
    "for lead in lead_climate_list:\n",
    "    df_current_yield_lead_climate['Lead_'+lead].interpolate(method='linear', direction='forward', inplace=True)"
   ]
  },
  {
   "cell_type": "code",
   "execution_count": null,
   "metadata": {},
   "outputs": [],
   "source": [
    "df_current_yield_lead_climate.isna().sum()"
   ]
  },
  {
   "cell_type": "code",
   "execution_count": null,
   "metadata": {},
   "outputs": [],
   "source": [
    "corr_current_yield_lead_climate = df_current_yield_lead_climate[['yield', \\\n",
    "                                                                 'Lead_AnnualTotal_Rainf', \\\n",
    "                                                                 'Lead_SepToDecTotal_Rainf',\\\n",
    "                                                                 'Lead_NovDecTotal_Snowf', \\\n",
    "                                                                 'Lead_NovDecTotal_SnowDepth', \\\n",
    "                                                                 'Lead_NovDecMean_RootMoist', \\\n",
    "                                                                 'Lead_AnnualMean_RootMoist']].corr()\n",
    "                                                                "
   ]
  },
  {
   "cell_type": "code",
   "execution_count": null,
   "metadata": {},
   "outputs": [],
   "source": [
    "corr_current_yield_lead_climate"
   ]
  },
  {
   "cell_type": "code",
   "execution_count": null,
   "metadata": {},
   "outputs": [],
   "source": [
    "plt.figure(figsize=(80,80), linewidth=20)\n",
    "sns.set(font_scale=5)\n",
    "res = sns.heatmap(corr_current_yield_lead_climate, annot=True, fmt='.1f', cmap='RdBu_r', vmin=-1, vmax=1)\n",
    "res.set_xticklabels(res.get_xmajorticklabels(), fontsize = 100, rotation=90)\n",
    "res.set_yticklabels(res.get_ymajorticklabels(), fontsize = 100, rotation=0)\n",
    "res.xaxis.tick_top() # x axis on top\n",
    "res.xaxis.set_label_position('top')\n",
    "res.tick_params(length=0)\n",
    "res.set_title('Yield vs Lead climate conditions', fontsize=200, fontweight='bold', y =  1.1)"
   ]
  },
  {
   "cell_type": "markdown",
   "metadata": {},
   "source": [
    "### Add `Lead_AnnualTotal_Rainf` to `df_target_feature`"
   ]
  },
  {
   "cell_type": "code",
   "execution_count": null,
   "metadata": {},
   "outputs": [],
   "source": [
    "keep_columns.append('Lead_AnnualTotal_Rainf')"
   ]
  },
  {
   "cell_type": "code",
   "execution_count": null,
   "metadata": {},
   "outputs": [],
   "source": [
    "df_target_feature['Lead_AnnualTotal_Rainf'] = df_current_yield_lead_climate['Lead_AnnualTotal_Rainf']"
   ]
  },
  {
   "cell_type": "code",
   "execution_count": null,
   "metadata": {},
   "outputs": [],
   "source": [
    "df_target_feature[['yield', 'Lead_AnnualTotal_Rainf']].corr()"
   ]
  },
  {
   "cell_type": "markdown",
   "metadata": {},
   "source": [
    "---\n",
    "<a id='section_6'></a>\n",
    "\n",
    "# 6. Summarize and save the data  \n",
    "\n",
    "Back to [Table of contents](#section_0)"
   ]
  },
  {
   "cell_type": "markdown",
   "metadata": {},
   "source": [
    "### Double-check that df_target_feature is a clean dataframe without missing values"
   ]
  },
  {
   "cell_type": "code",
   "execution_count": null,
   "metadata": {},
   "outputs": [],
   "source": [
    "for column in df_target_feature.columns:\n",
    "    if df_target_feature[column].isnull().values.any():\n",
    "        print('Column '+column+ ' still has NaN values ...')"
   ]
  },
  {
   "cell_type": "code",
   "execution_count": null,
   "metadata": {},
   "outputs": [],
   "source": [
    "df_target_feature.columns"
   ]
  },
  {
   "cell_type": "code",
   "execution_count": null,
   "metadata": {
    "scrolled": true
   },
   "outputs": [],
   "source": [
    "df_target_feature.describe()"
   ]
  },
  {
   "cell_type": "code",
   "execution_count": null,
   "metadata": {},
   "outputs": [],
   "source": [
    "final_corr = df_target_feature[['JJA_SWdown', 'JJA_LWnet',\n",
    "       'JFMA_EF', 'JJA_EF', 'SO_EF', 'JFMA_Rainf', 'MJJ_Rainf', 'JF_Snowf',\n",
    "       'JJA_ESoil', 'MJJA_Albedo', 'MJJA_SoilM_0_10cm', 'JFMA_RootMoist',\n",
    "       'JanToApr_LAI', 'MayToOct_ACond', 'Lead_AnnualTotal_Rainf']].corr()"
   ]
  },
  {
   "cell_type": "code",
   "execution_count": null,
   "metadata": {},
   "outputs": [],
   "source": [
    "plt.figure(figsize=(80,80), linewidth=20)\n",
    "sns.set(font_scale=5)\n",
    "res = sns.heatmap(final_corr, annot=True, fmt='.2f', cmap='RdBu_r', vmin=-1, vmax=1)\n",
    "res.set_xticklabels(res.get_xmajorticklabels(), fontsize = 100, rotation=90)\n",
    "res.set_yticklabels(res.get_ymajorticklabels(), fontsize = 100, rotation=0)\n",
    "res.xaxis.tick_top() # x axis on top\n",
    "res.xaxis.set_label_position('top')\n",
    "res.tick_params(length=0)\n",
    "res.set_title('Yield vs Features', fontsize=200, fontweight='bold', y =  1.1)"
   ]
  },
  {
   "cell_type": "markdown",
   "metadata": {},
   "source": [
    "<div class=\"alert alert-block alert-success\">\n",
    "    \n",
    "## Features: \n",
    "\n",
    "- #### 'JJA_SWdown': June to August averaged incoming solar radiaiton at surface\n",
    "    \n",
    "    - affect temperature, photosynthesis, and potential evaporation \n",
    "    \n",
    "- #### 'JJA_LWnet': June to August averaged net longwave radiation at surface \n",
    "    \n",
    "    - associated with surface temperature (outgoing longwave radiation) and atmospheric humidity and cloud cover, both affect downward longwave radiation \n",
    "    \n",
    "- #### 'JFMA_EF': January to April averaged evaporative fraction \n",
    "    \n",
    "- #### 'SO_EF': September to October averaged evaporative fraction \n",
    "      \n",
    "- #### 'JJA_EF': June to August averaged evaporative fraction  \n",
    "    \n",
    "    - evaporative fraction reflects partitioning of net surface energy to evapotranspiration, which affect temperature and soil water availability\n",
    "    \n",
    "- #### 'JFMA_Rainf': January to April averaged precipitation rate\n",
    "    \n",
    "    - precipitation prior to the soybean planting season affects soil moisture\n",
    "    \n",
    "- #### 'JF_Snowf': January to Feburary averaged snowfall rate \n",
    "    \n",
    "    - snowfall during the beginning of the year could affect soil moisture as well, though the effects might be weak and might vary across space\n",
    "    \n",
    "- #### 'JJA_ESoil': June to August averaged evaporation from soil\n",
    "    \n",
    "    - evaporation from soil could affect soil temperature and near-surface temperature, and it's also related to soil moisture availability\n",
    "    \n",
    "- #### 'MJJ_Rainf': May to July averaged precipitation rate\n",
    "    \n",
    "    - precipitation during the planting and growing season, likely have a nonlinear relationship with yield\n",
    "    \n",
    "- #### 'MJJA_Albedo': May to August averaged surface albedo \n",
    "    \n",
    "    - albedo is influenced by multiple factors, could affect surface temperature\n",
    "    \n",
    "- #### 'MJJA_SoilM_0_10cm': May to August averaged surface soil moisture \n",
    "    \n",
    "    - direct reflection of surface soil wetness \n",
    "    \n",
    "- #### 'JFMA_RootMoist': January to April averaged Root zoom moisture \n",
    "    \n",
    "    - root zone soil moisture does not have strong seasonal cycle in this dataset; instead, it seems to be a variable that reflects spatial heterogeneity  \n",
    "    \n",
    "- #### 'JanToApr_LAI': January to April averaged leaf area index\n",
    "    \n",
    "    - leaf area index prior to the typical soybean planting season; I expect this variable to reflect spring climate condition to some extent, because you would not expect too much spring vegetation cover if it's too cold and dry, which could also affect the soybean yield in the current year\n",
    "    \n",
    "- #### 'MayToOct_ACond': May to October averaged aerodynamic resistance \n",
    "    \n",
    "    - related to both canopy height and wind speed, affect energy and water exchange between land and atmosphere \n",
    "     \n",
    "- #### 'Lead_AnnualTotal_Rainf': Annual total rainfall rate from the previoius year\n",
    "    \n",
    "    - previous year's rainfall affect past and current soil moisture\n",
    "    \n",
    "</div>"
   ]
  },
  {
   "cell_type": "markdown",
   "metadata": {},
   "source": [
    "<a id='save_selected_feature'></a>\n",
    "\n",
    "\n",
    "### Save the dataframe \n",
    "\n",
    "Back to [Table of contents](#section_0)"
   ]
  },
  {
   "cell_type": "code",
   "execution_count": null,
   "metadata": {},
   "outputs": [],
   "source": [
    "df_target_feature.to_csv(data_dir+'/US_SoybeanYield_ClimateFeature_1981-2016_v1.csv')"
   ]
  }
 ],
 "metadata": {
  "kernelspec": {
   "display_name": "Python 3",
   "language": "python",
   "name": "python3"
  },
  "language_info": {
   "codemirror_mode": {
    "name": "ipython",
    "version": 3
   },
   "file_extension": ".py",
   "mimetype": "text/x-python",
   "name": "python",
   "nbconvert_exporter": "python",
   "pygments_lexer": "ipython3",
   "version": "3.7.6"
  }
 },
 "nbformat": 4,
 "nbformat_minor": 4
}
